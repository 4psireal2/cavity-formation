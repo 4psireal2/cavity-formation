{
 "cells": [
  {
   "cell_type": "markdown",
   "metadata": {},
   "source": [
    "# Estimate rates from SqRA rate matrix 2D"
   ]
  },
  {
   "cell_type": "code",
   "execution_count": 1,
   "metadata": {
    "ExecuteTime": {
     "end_time": "2020-11-13T06:11:52.049504Z",
     "start_time": "2020-11-13T06:11:51.357462Z"
    }
   },
   "outputs": [],
   "source": [
    "import sys\n",
    "\n",
    "import matplotlib as mpl\n",
    "import matplotlib.pyplot as plt\n",
    "import numpy as np\n",
    "import scipy.linalg\n",
    "import scipy.sparse\n",
    "import scipy.sparse.linalg"
   ]
  },
  {
   "cell_type": "markdown",
   "metadata": {},
   "source": [
    "### Adjacency matrix"
   ]
  },
  {
   "cell_type": "code",
   "execution_count": 2,
   "metadata": {},
   "outputs": [],
   "source": [
    "def fluxed_adjancency_matrix(xbins, ybins, Dx, Dy):\n",
    "\n",
    "    Nbins = xbins * ybins\n",
    "\n",
    "    A = np.zeros((Nbins,Nbins))\n",
    "    \n",
    "    for x in np.arange(xbins):\n",
    "        for y in np.arange(ybins):\n",
    "            i = y + ybins * x\n",
    "\n",
    "            left = x-1\n",
    "            right = x +1\n",
    "            \n",
    "            if x == 0:\n",
    "                left = xbins-1\n",
    "            \n",
    "            if x == xbins-1:\n",
    "                right = 0\n",
    "\n",
    "            up = y+1\n",
    "            down = y-1\n",
    "            \n",
    "            if y == 0:\n",
    "                down = ybins-1\n",
    "            \n",
    "            if y == ybins-1:\n",
    "                up = 0\n",
    "            \n",
    "            jleft  = y + ybins * left\n",
    "            jright = y + ybins * right\n",
    "            jup    = up   + ybins * x\n",
    "            jdown  = down + ybins * x\n",
    "            #print(x,y,i)           \n",
    "            A[i, jleft]  = Dx\n",
    "            A[i, jright] = Dx\n",
    "            A[i, jup]    = Dy\n",
    "            A[i, jdown]  = Dy\n",
    "    \n",
    "    return A"
   ]
  },
  {
   "cell_type": "markdown",
   "metadata": {},
   "source": [
    "## 2D system"
   ]
  },
  {
   "cell_type": "code",
   "execution_count": 3,
   "metadata": {
    "ExecuteTime": {
     "end_time": "2020-11-13T09:36:18.859829Z",
     "start_time": "2020-11-13T09:36:18.694310Z"
    }
   },
   "outputs": [],
   "source": [
    "# Potential energy function\n",
    "def v2d(x, y):\n",
    "    return (x**2 - 1)**2 + 0.5*y * x + y**2 \n",
    "\n",
    "# System parameters\n",
    "kB    = 0.008314463\n",
    "T     = 300\n",
    "mass  = 1\n",
    "gamma = 1\n",
    "D     = kB * T / mass / gamma\n",
    "sigma = np.sqrt(2 * D)\n",
    "beta  = 1 / kB / T\n",
    "\n",
    "# Grid\n",
    "nd     =  2  # Number of dimensions\n",
    "xedges = 40  # x boundaries\n",
    "xmin   = -2.2\n",
    "xmax   =  2.2\n",
    "\n",
    "yedges = 30  # y boundaries\n",
    "ymin   = -2.2\n",
    "ymax   =  2.2\n",
    "\n",
    "x      = np.linspace(xmin, xmax, xedges)  # array with x edges\n",
    "dx     = x[1] - x[0]\n",
    "x      = x[:-1] + (dx / 2)                # array with x centers\n",
    "xbins  = xedges - 1\n",
    "\n",
    "y      = np.linspace(ymin, ymax, yedges)  # array with x edges\n",
    "dy     = y[1] - y[0]\n",
    "y      = y[:-1] + (dy / 2)                # array with x centers\n",
    "ybins  = yedges - 1\n",
    "\n",
    "Nbins  = xbins*ybins                      # number of bins\n",
    "\n",
    "grid = np.meshgrid(x,y)\n"
   ]
  },
  {
   "cell_type": "markdown",
   "metadata": {},
   "source": [
    "#### Build SqRA 2D"
   ]
  },
  {
   "cell_type": "code",
   "execution_count": 4,
   "metadata": {
    "ExecuteTime": {
     "end_time": "2020-11-13T09:36:18.859829Z",
     "start_time": "2020-11-13T09:36:18.694310Z"
    }
   },
   "outputs": [],
   "source": [
    "# Potential energy of states\n",
    "#v = v2d(*grid).flatten()\n",
    "v = v2d(grid[0].flatten('F'), grid[1].flatten('F'))\n",
    "v = v - np.min(v)\n",
    "# Adjacency matrix times flux\n",
    "Dx = D / (dx**2)\n",
    "Dy = D / (dy**2)\n",
    "Af = fluxed_adjancency_matrix(xbins, ybins, Dx, Dy)\n",
    "\n",
    "# Diagonalization\n",
    "SQRA = np.sqrt(np.exp(- beta * v))\n",
    "SQRA = SQRA / sum(SQRA)\n",
    "Di   = scipy.sparse.spdiags(SQRA, 0, Nbins, Nbins) #.toarray()\n",
    "D1   = scipy.sparse.spdiags(1/SQRA, 0, Nbins, Nbins)           \n",
    "\n",
    "Q    = D1*Af*Di\n",
    "\n",
    "Q    = Q + scipy.sparse.spdiags(-Q.sum(axis=1).T, 0, Nbins, Nbins)\n",
    "#eigenval, eigenvec = scipy.sparse.linalg.eigs(Q.T, 4, which='LR')\n",
    "#plt.pcolor(grid[0],grid[1],np.real(eigenvec[:,1]).reshape(ybins,xbins,  order='F'))\n"
   ]
  },
  {
   "cell_type": "markdown",
   "metadata": {},
   "source": [
    "#### Estimate rate from (xA, yA) = (-1.1,  0.3) to  (xB, yB)  =  (1.1,  -0.3)"
   ]
  },
  {
   "cell_type": "code",
   "execution_count": 5,
   "metadata": {
    "ExecuteTime": {
     "end_time": "2020-11-13T09:36:18.859829Z",
     "start_time": "2020-11-13T09:36:18.694310Z"
    },
    "scrolled": false
   },
   "outputs": [
    {
     "name": "stdout",
     "output_type": "stream",
     "text": [
      "Rate from (xA, yA) to (xB, yB):  0.33645931008767516\n"
     ]
    },
    {
     "data": {
      "text/plain": [
       "<matplotlib.colorbar.Colorbar at 0x1782373e310>"
      ]
     },
     "execution_count": 5,
     "metadata": {},
     "output_type": "execute_result"
    },
    {
     "data": {
      "image/png": "[encoded data removed]",
      "text/plain": [
       "<Figure size 432x288 with 3 Axes>"
      ]
     },
     "metadata": {
      "needs_background": "light"
     },
     "output_type": "display_data"
    }
   ],
   "source": [
    "ixA = np.argwhere(np.abs(x + 1.1) < 0.05).item()\n",
    "iyA = np.argwhere(np.abs(y - 0.3) < 0.05).item()\n",
    "iA  = iyA + ybins * ixA\n",
    "\n",
    "ixB = np.argwhere(np.abs(x - 1.1) < 0.05).item()\n",
    "iyB = np.argwhere(np.abs(y + 0.2) < 0.05).item()\n",
    "iB  = iyB + ybins * ixB\n",
    "\n",
    "xA = x[ixA]\n",
    "yA = y[iyA]\n",
    "xB = x[ixB]\n",
    "yB = y[iyB]\n",
    "\n",
    "Q1         = np.copy(Q)\n",
    "Q1[iB, :]  = 0.0\n",
    "Q1[iB, iB] = -1.0\n",
    "b          = -np.ones(Nbins)\n",
    "b[iB]      = 0.0\n",
    "m_t        = np.linalg.solve(Q1, b)\n",
    "k          = 1/m_t[iA]\n",
    "m_t        = m_t.reshape(ybins, xbins,order='F')\n",
    "print('Rate from (xA, yA) to (xB, yB): ', k)\n",
    " \n",
    "fig, (ax1, ax2) = plt.subplots(1, 2)  \n",
    "\n",
    "ax1.pcolor(grid[0], grid[1], v2d(grid[0], grid[1]), shading='auto', vmax=5)\n",
    "ax1.plot(xA, yA, 'go',label='Starting point A')\n",
    "ax1.plot(xB, yB, 'ro',label='Arrival point B')\n",
    "ax1.set_title('Potential')\n",
    "\n",
    "pos=ax2.pcolor(grid[0], grid[1], m_t, shading='auto', vmax=5)\n",
    "ax2.plot(xA, yA, 'go',label='Starting point A')\n",
    "ax2.plot(xB, yB, 'ro',label='Arrival point B')\n",
    "ax2.set_title('MFPT')\n",
    "ax2.legend()\n",
    "fig.colorbar(pos, ax=ax2)\n",
    "\n"
   ]
  },
  {
   "cell_type": "markdown",
   "metadata": {},
   "source": [
    "#### Estimate rate from set around (xA, yA) = (-1.1,  0.3) to set around  (xB, yB)  =  (1.1,  -0.3)"
   ]
  },
  {
   "cell_type": "code",
   "execution_count": 6,
   "metadata": {},
   "outputs": [
    {
     "name": "stdout",
     "output_type": "stream",
     "text": [
      "Rate from set A to set B:  0.5741201224021922\n"
     ]
    },
    {
     "data": {
      "text/plain": [
       "<matplotlib.colorbar.Colorbar at 0x17823f40a60>"
      ]
     },
     "execution_count": 6,
     "metadata": {},
     "output_type": "execute_result"
    },
    {
     "data": {
      "image/png": "[encoded data removed]",
      "text/plain": [
       "<Figure size 432x288 with 3 Axes>"
      ]
     },
     "metadata": {
      "needs_background": "light"
     },
     "output_type": "display_data"
    }
   ],
   "source": [
    "ixAa = np.min(np.argwhere(np.abs(x + 1.3) < 0.08))\n",
    "ixAb = np.min(np.argwhere(np.abs(x + 0.8) < 0.08))\n",
    "iyAa = np.min(np.argwhere(np.abs(y - 0.0) < 0.08))\n",
    "iyAb = np.min(np.argwhere(np.abs(y - 0.6) < 0.08))\n",
    "\n",
    "ixBa = np.min(np.argwhere(np.abs(x - 0.8) < 0.1))\n",
    "ixBb = np.min(np.argwhere(np.abs(x - 1.3) < 0.1))\n",
    "iyBa = np.min(np.argwhere(np.abs(y + 0.6) < 0.1))\n",
    "iyBb = np.min(np.argwhere(np.abs(y - 0.0) < 0.1))\n",
    "\n",
    "xA = x[ixAa:ixAb]\n",
    "yA = y[iyAa:iyAb]\n",
    "\n",
    "xB = x[ixBa:ixBb]\n",
    "yB = y[iyBa:iyBb]\n",
    "\n",
    "setA = np.meshgrid(xA,yA)\n",
    "setB = np.meshgrid(xB,yB)\n",
    "\n",
    "indecesA = np.zeros(len(xA) * len(yA))\n",
    "indecesB = np.zeros(len(xB) * len(yB))\n",
    "\n",
    "h = 0\n",
    "for i in range(len(xA)):\n",
    "    for j in range(len(yA)):\n",
    "        k  = iyAa + j + ybins * (ixAa + i)\n",
    "        indecesA[h] =  k\n",
    "        h = h+1\n",
    "        \n",
    "h = 0\n",
    "for i in range(len(xB)):\n",
    "    for j in range(len(yA)):\n",
    "        k  = iyBa + j + ybins * (ixBa + i)\n",
    "        indecesB[h] =  k\n",
    "        h = h+1\n",
    "        \n",
    "\n",
    "\n",
    "W   = np.exp(- beta * v)\n",
    "W   = W[indecesA.astype(int)]\n",
    "W   = W / np.sum(W)\n",
    "\n",
    "Q2                   = np.copy(Q)\n",
    "\n",
    "for i in range(len(indecesB)):\n",
    "    Q2[indecesB[i].astype(int), :] = np.zeros(len(Q2))\n",
    "    Q2[indecesB[i].astype(int), indecesB[i].astype(int)] = -1.0\n",
    "\n",
    "b                                 = -np.ones(len(Q2))\n",
    "b[indecesB.astype(int)]           = 0.0\n",
    "m_t                               = np.linalg.solve(Q2, b)  #Mean first-passage time to set right (for all possible starting states)\n",
    "m_t_sets                          = np.dot(W, m_t[indecesA.astype(int)])    #Mean first-passage time from set left to set right\n",
    "\n",
    "k              = 1/m_t_sets\n",
    "print('Rate from set A to set B: ', str(k))\n",
    "\n",
    "m_t        = m_t.reshape(ybins, xbins,order='F')\n",
    "\n",
    "fig, (ax1, ax2) = plt.subplots(1, 2)  \n",
    "\n",
    "ax1.pcolor(grid[0], grid[1], v2d(grid[0], grid[1]), shading='auto', vmax=5)\n",
    "ax1.plot(setA[0], setA[1], 'go',label='Starting point A')\n",
    "ax1.plot(setB[0], setB[1], 'ro',label='Arrival point B')\n",
    "ax1.set_title('Potential')\n",
    "\n",
    "pos=ax2.pcolor(grid[0], grid[1], m_t, shading='auto', vmax=5)\n",
    "ax2.plot(setA[0], setA[1], 'go',label='Starting point A')\n",
    "ax2.plot(setB[0], setB[1], 'ro',label='Arrival point B')\n",
    "ax2.set_title('MFPT')\n",
    "fig.colorbar(pos, ax=ax2)"
   ]
  },
  {
   "cell_type": "code",
   "execution_count": null,
   "metadata": {},
   "outputs": [],
   "source": []
  }
 ],
 "metadata": {
  "kernelspec": {
   "display_name": "Python 3 (ipykernel)",
   "language": "python",
   "name": "python3"
  },
  "language_info": {
   "codemirror_mode": {
    "name": "ipython",
    "version": 3
   },
   "file_extension": ".py",
   "mimetype": "text/x-python",
   "name": "python",
   "nbconvert_exporter": "python",
   "pygments_lexer": "ipython3",
   "version": "3.8.10"
  },
  "toc": {
   "base_numbering": 1,
   "nav_menu": {},
   "number_sections": true,
   "sideBar": true,
   "skip_h1_title": false,
   "title_cell": "Table of Contents",
   "title_sidebar": "Contents",
   "toc_cell": false,
   "toc_position": {},
   "toc_section_display": true,
   "toc_window_display": false
  }
 },
 "nbformat": 4,
 "nbformat_minor": 4
}
