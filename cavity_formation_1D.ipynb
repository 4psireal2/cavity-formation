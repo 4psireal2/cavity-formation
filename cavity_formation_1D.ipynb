{
 "cells": [
  {
   "cell_type": "code",
   "execution_count": 1,
   "metadata": {
    "executionInfo": {
     "elapsed": 340,
     "status": "ok",
     "timestamp": 1651432238985,
     "user": {
      "displayName": "Jung Nguyen",
      "userId": "01617720629380960952"
     },
     "user_tz": -120
    },
    "id": "pvStRNB9yxbk"
   },
   "outputs": [],
   "source": [
    "from matplotlib import pyplot as plt\n",
    "from genPCCA import _initialize_rot_matrix, _gram_schmidt_mod, sort_real_schur, _opt_soft\n",
    "\n",
    "import copy\n",
    "import numpy as np\n",
    "import scipy.linalg\n",
    "import scipy.sparse"
   ]
  },
  {
   "cell_type": "code",
   "execution_count": 2,
   "metadata": {
    "executionInfo": {
     "elapsed": 2,
     "status": "ok",
     "timestamp": 1651432115776,
     "user": {
      "displayName": "Jung Nguyen",
      "userId": "01617720629380960952"
     },
     "user_tz": -120
    },
    "id": "hlwMtNui7F8l"
   },
   "outputs": [
    {
     "data": {
      "image/png": "[encoded data removed]",
      "text/plain": [
       "<Figure size 432x288 with 1 Axes>"
      ]
     },
     "metadata": {
      "needs_background": "light"
     },
     "output_type": "display_data"
    }
   ],
   "source": [
    "# Load data\n",
    "\n",
    "\n",
    "data_path = ('./1D_Energy_Profile/Au3.0.dat')\n",
    "E_Au_3_0 = np.loadtxt(data_path)\n",
    "plt.plot(E_Au_3_0[:,0],E_Au_3_0[:,1], label=r'$r = 3.0 \\AA$')\n",
    "plt.legend()\n",
    "plt.ylabel(r'$F_{cav}(eV)$')\n",
    "plt.xlabel(r'$z_{Me-Cav}(\\AA)$')\n",
    "plt.savefig('Fcav_Au_3.pdf')"
   ]
  },
  {
   "cell_type": "markdown",
   "metadata": {
    "id": "g9gW6ao9BIJb"
   },
   "source": [
    "### Adjacency matrix"
   ]
  },
  {
   "cell_type": "code",
   "execution_count": 3,
   "metadata": {
    "executionInfo": {
     "elapsed": 254,
     "status": "ok",
     "timestamp": 1651430069592,
     "user": {
      "displayName": "Jung Nguyen",
      "userId": "01617720629380960952"
     },
     "user_tz": -120
    },
    "id": "5PYtElGsHV9n"
   },
   "outputs": [],
   "source": [
    "# check out networkx\n",
    "def adjancency_matrix_sparse(nbins, nd, periodic=False):\n",
    "    v = np.zeros(nbins)\n",
    "    v[1] = 1\n",
    "    \n",
    "    if periodic:\n",
    "        v[-1] = 1\n",
    "        A0 = scipy.sparse.csc_matrix(scipy.linalg.circulant(v)) #.toarray()\n",
    "    else:\n",
    "        A0 = scipy.sparse.csc_matrix(scipy.linalg.toeplitz(v)) #.toarray()\n",
    "    \n",
    "    A = A0\n",
    "    I2 = scipy.sparse.eye(nbins)  #np.eye(nbins)\n",
    "    for _ in range(1, nd):\n",
    "        I1 = scipy.sparse.eye(*A.shape) #np.eye(*A.shape)\n",
    "        A =  scipy.sparse.kron(A0, I1) + scipy.sparse.kron(I2, A)\n",
    "    return A"
   ]
  },
  {
   "cell_type": "markdown",
   "metadata": {
    "id": "rilxD-ZsH1aE"
   },
   "source": [
    "### Spatial discretization (ref: http://www-cs-students.stanford.edu/~amitp/game-programming/polygon-map-generation/)"
   ]
  },
  {
   "cell_type": "code",
   "execution_count": 4,
   "metadata": {
    "id": "ZpSJ8UumH9Mh"
   },
   "outputs": [],
   "source": [
    "def find_mid(sorted_list):\n",
    "        acopy = sorted(sorted_list * 2)[1:-1]\n",
    "        mid = [acopy[j]+((acopy[j+1]-acopy[j])/2) for j in range(0, len(acopy),2)]\n",
    "        return mid\n",
    "\n",
    "def generating_bins(E_pot,nedges, loop=2):\n",
    "    # increase loop to have less random discretization\n",
    "    random_float = sorted([np.random.uniform(min(E_pot), max(E_pot)) for i in range(nedges)])\n",
    "    counter = loop\n",
    "    bins = None\n",
    "    \n",
    "    while counter != 0:\n",
    "        if counter == loop:\n",
    "            midpoints = find_mid(random_float)\n",
    "        else:\n",
    "            edge = find_mid(bins)\n",
    "            midpoints = find_mid(edge)\n",
    "        bins = [min(E_pot)] + copy.deepcopy(midpoints) + [max(E_pot)]\n",
    "        counter -= 1\n",
    "        \n",
    "    return bins"
   ]
  },
  {
   "cell_type": "markdown",
   "metadata": {
    "id": "5lJqxQcvIkH-"
   },
   "source": [
    "### 1D System - from MD"
   ]
  },
  {
   "cell_type": "code",
   "execution_count": 5,
   "metadata": {
    "executionInfo": {
     "elapsed": 304,
     "status": "ok",
     "timestamp": 1651430075865,
     "user": {
      "displayName": "Jung Nguyen",
      "userId": "01617720629380960952"
     },
     "user_tz": -120
    },
    "id": "vKZOrN8fIp1A"
   },
   "outputs": [],
   "source": [
    "# System parameters\n",
    "#kB    = 0.008314463 kJ/(mol.K)\n",
    "kB    = 8.314463 \n",
    "\n",
    "T     = 300 ## check from ouput\n",
    "mass  = 238 ## a.m.u\n",
    "gamma = 1\n",
    "D     = kB * T / mass / gamma # diffusion coefficient\n",
    "sigma = np.sqrt(2 * D) # diagonal matrix\n",
    "beta  = 1 / kB / T\n",
    "\n",
    "# Grid\n",
    "nd     = 1  # Number of dimensions\n",
    "nedges = 60 # State boundaries\n",
    "x = E_Au_3_0[:,0]\n",
    "dx = x[1] - x[0]\n",
    "x = E_Au_3_0[26:102][::2]\n",
    "v = E_Au_3_0[:,1][26:102][::2]*1.60218e-19"
   ]
  },
  {
   "cell_type": "markdown",
   "metadata": {
    "id": "9JjOg4yWPM_m"
   },
   "source": [
    "#### Build SqRA 1D"
   ]
  },
  {
   "cell_type": "code",
   "execution_count": 6,
   "metadata": {
    "executionInfo": {
     "elapsed": 407,
     "status": "ok",
     "timestamp": 1651430131265,
     "user": {
      "displayName": "Jung Nguyen",
      "userId": "01617720629380960952"
     },
     "user_tz": -120
    },
    "id": "lc8gtPidPNSl"
   },
   "outputs": [],
   "source": [
    "Nbins = len(x)\n",
    "\n",
    "# Flux\n",
    "A  = adjancency_matrix_sparse(Nbins, nd, periodic=False)\n",
    "flux = D / dx**2 # Normalisation of Fick's second law?\n",
    "Af   = flux * A \n",
    "\n",
    "# Diagonalization\n",
    "SQRA = np.sqrt(np.exp(- beta * v)) # What happen to the partition function ?\n",
    "SQRA = SQRA / sum(SQRA) # Normalized arithmetic mean of Boltzman density values of points in each Voronoi region\n",
    "Di   = scipy.sparse.spdiags(SQRA, 0, Nbins, Nbins) # right eigenvector of Q''_c with eigenvalues close to 0\n",
    "D1   = scipy.sparse.spdiags(1/SQRA, 0, Nbins, Nbins)       \n",
    "Q    = D1 * Af * Di # basis transformation\n",
    "\n",
    "Q    = Q + scipy.sparse.spdiags(-Q.sum(axis=1).T, 0, Nbins, Nbins) # compute diagonal elements of Q"
   ]
  },
  {
   "cell_type": "markdown",
   "metadata": {
    "id": "-jBLR1-8B3CQ"
   },
   "source": [
    "### Apply PCCA+"
   ]
  },
  {
   "cell_type": "code",
   "execution_count": 7,
   "metadata": {
    "colab": {
     "base_uri": "https://localhost:8080/",
     "height": 696
    },
    "executionInfo": {
     "elapsed": 50606,
     "status": "error",
     "timestamp": 1651435143261,
     "user": {
      "displayName": "Jung Nguyen",
      "userId": "01617720629380960952"
     },
     "user_tz": -120
    },
    "id": "_c4OsoqdB6gq",
    "outputId": "2c830386-b19f-4332-ecc4-b11c40c11e43"
   },
   "outputs": [
    {
     "name": "stdout",
     "output_type": "stream",
     "text": [
      "Schur eigenvalues [ 1.00000000e+00  3.18074438e-01  1.03160468e-02  3.49240898e-05\n",
      "  1.28303764e-08  5.39908657e-13  7.41307365e-17 -6.11011334e-17\n",
      " -5.93758483e-17  5.45136445e-17 -4.40862199e-17  4.81042012e-17\n",
      " -3.13165976e-17 -3.13165976e-17  3.28063011e-17 -2.57358623e-17\n",
      " -1.87579572e-17 -1.87579572e-17 -1.86351180e-17 -1.86351180e-17\n",
      " -1.05626360e-17 -1.05626360e-17  2.50593670e-17  2.50593670e-17\n",
      "  2.16592969e-17  2.16592969e-17  6.91000098e-19  6.91000098e-19\n",
      "  1.00927228e-17  1.00927228e-17  1.54467220e-17  2.92541369e-18\n",
      "  2.92541369e-18  9.28758162e-18  4.44766548e-18 -6.76463464e-18\n",
      " -6.76463464e-18 -6.50956841e-18]\n"
     ]
    },
    {
     "name": "stderr",
     "output_type": "stream",
     "text": [
      "/Users/psireal42/opt/anaconda3/lib/python3.8/site-packages/scipy/sparse/linalg/dsolve/linsolve.py:318: SparseEfficiencyWarning: splu requires CSC matrix format\n",
      "  warn('splu requires CSC matrix format', SparseEfficiencyWarning)\n",
      "/Users/psireal42/opt/anaconda3/lib/python3.8/site-packages/scipy/sparse/linalg/dsolve/linsolve.py:215: SparseEfficiencyWarning: spsolve is more efficient when sparse b is in the CSC matrix format\n",
      "  warn('spsolve is more efficient when sparse b '\n"
     ]
    },
    {
     "data": {
      "image/png": "[encoded data removed]",
      "text/plain": [
       "<Figure size 432x288 with 1 Axes>"
      ]
     },
     "metadata": {
      "needs_background": "light"
     },
     "output_type": "display_data"
    }
   ],
   "source": [
    "EPS = np.finfo(np.float64).eps\n",
    "\n",
    "r = 2 # number of conformations\n",
    "#eigenval, eigenvec = scipy.sparse.linalg.eigs(Q.T, r, which='LR')\n",
    "Q1 = scipy.sparse.csr_matrix.copy(Q)\n",
    "Q1 = scipy.linalg.expm(Q1)\n",
    "#U, s, _ = scipy.sparse.linalg.svds(Q1)\n",
    "\n",
    "\n",
    "Q2 = scipy.sparse.csr_matrix.toarray(Q1)\n",
    "R, Q_new = scipy.linalg.schur(Q2, output='real')\n",
    "print('Schur eigenvalues',R.diagonal())\n",
    "plt.plot(R.diagonal(),'o')\n",
    "\n",
    "### Schur Zerlegeung == Eigenwert Zerlegung\n",
    "Q_new,R, ap = sort_real_schur(Q_new,R,'LM',r) # find the eigenwert !!!!\n",
    "T, _ = scipy.linalg.rsf2csf(R, Q_new)\n",
    "eigenvalues = np.diag(T)[:r]\n",
    "Q, R, eigenvalues = Q_new[:, :r], R[:r, :r], eigenvalues[:r] # sorted_schur\n",
    "\n",
    "eta = np.true_divide(np.ones(Q.shape[0]), Q.shape[0])\n",
    "if not np.allclose(Q.T.dot(Q * eta[:, None]), np.eye(Q.shape[1]), rtol=1e6 * EPS, atol=1e6 * EPS): # do_schur\n",
    "        Q = _gram_schmidt_mod(Q, eta)\n",
    "        # Transform the orthonormalized Schur vectors of P_bar back\n",
    "        # to orthonormalized Schur vectors X of P.\n",
    "        X = np.true_divide(Q, np.sqrt(eta)[:, None])\n",
    "else:\n",
    "        # Search for the constant (Schur) vector, if explicitly present.\n",
    "        n, m = Q.shape\n",
    "        max_i = 0\n",
    "        for i in range(m):\n",
    "            vsum = np.sum(Q[:, i])\n",
    "            dummy = np.ones(Q[:, i].shape) * (vsum / n)\n",
    "            if np.allclose(Q[:, i], dummy, rtol=1e-6, atol=1e-5):\n",
    "                max_i = i  # TODO: check, if more than one vec fulfills this\n",
    "\n",
    "        # Shift non-constant first (Schur) vector to the right.\n",
    "        Q[:, max_i] = Q[:, 0]\n",
    "        # Transform the orthonormalized Schur vectors of P_bar back\n",
    "        # to orthonormalized Schur vectors X of P.\n",
    "        X = np.true_divide(Q, np.sqrt(eta)[:, None])\n",
    "        # Set first (Schur) vector equal 1.\n",
    "        X[:, 0] = 1.0\n",
    "\n",
    "\n",
    "rot_matrix = _initialize_rot_matrix(X)\n",
    "rot_matrix, chi, fopt = _opt_soft(X, rot_matrix) # membership functions\n",
    "crispness = (r - fopt) / r\n",
    "\n",
    "#plt.plot(chi)\n",
    "plt.show()\n",
    "\n"
   ]
  },
  {
   "cell_type": "markdown",
   "metadata": {},
   "source": [
    "Wenige Diskretisationsbox, sieht wie freie Diffusion aus, Temperatur zu hoch"
   ]
  },
  {
   "cell_type": "markdown",
   "metadata": {},
   "source": [
    "### Compute Q<sub>c</sub>"
   ]
  },
  {
   "cell_type": "code",
   "execution_count": 8,
   "metadata": {},
   "outputs": [
    {
     "name": "stderr",
     "output_type": "stream",
     "text": [
      "/var/folders/20/g494tvg15z1ch3__m5vcn0b40000gn/T/ipykernel_4486/2267255030.py:1: RuntimeWarning: divide by zero encountered in true_divide\n",
      "  w = np.exp(-v/(kB*T)) # energy is too small\n",
      "/var/folders/20/g494tvg15z1ch3__m5vcn0b40000gn/T/ipykernel_4486/2267255030.py:1: RuntimeWarning: invalid value encountered in true_divide\n",
      "  w = np.exp(-v/(kB*T)) # energy is too small\n"
     ]
    },
    {
     "ename": "NameError",
     "evalue": "name 'w_c' is not defined",
     "output_type": "error",
     "traceback": [
      "\u001b[0;31m---------------------------------------------------------------------------\u001b[0m",
      "\u001b[0;31mNameError\u001b[0m                                 Traceback (most recent call last)",
      "Input \u001b[0;32mIn [8]\u001b[0m, in \u001b[0;36m<cell line: 7>\u001b[0;34m()\u001b[0m\n\u001b[1;32m      4\u001b[0m D \u001b[38;5;241m=\u001b[39m np\u001b[38;5;241m.\u001b[39mdiag(w)\n\u001b[1;32m      6\u001b[0m \u001b[38;5;66;03m#### R in Marcus's paper?\u001b[39;00m\n\u001b[0;32m----> 7\u001b[0m \u001b[43mw_c\u001b[49m\n\u001b[1;32m      8\u001b[0m D_c\n\u001b[1;32m      9\u001b[0m \u001b[38;5;28mprint\u001b[39m(X\u001b[38;5;241m.\u001b[39mshape)\n",
      "\u001b[0;31mNameError\u001b[0m: name 'w_c' is not defined"
     ]
    }
   ],
   "source": [
    "w = np.exp(-v/(kB*T)) # energy is too small\n",
    "sum_w = np.sum(w)\n",
    "w = w/sum_w # make the temperature smaller \n",
    "D = np.diag(w)\n",
    "\n",
    "#### R in Marcus's paper?\n",
    "w_c\n",
    "D_c\n",
    "print(X.shape)\n",
    "\n",
    "print(chi.shape)\n",
    "print(Q.shape)\n",
    "Q_c = scipy.linalg.inv(chi.T@D@chi)@(chi.T@D@Q@chi)\n",
    "I = D@chi"
   ]
  }
 ],
 "metadata": {
  "colab": {
   "collapsed_sections": [],
   "name": "cavity_formation_1D.ipynb",
   "provenance": []
  },
  "kernelspec": {
   "display_name": "Python 3 (ipykernel)",
   "language": "python",
   "name": "python3"
  },
  "language_info": {
   "codemirror_mode": {
    "name": "ipython",
    "version": 3
   },
   "file_extension": ".py",
   "mimetype": "text/x-python",
   "name": "python",
   "nbconvert_exporter": "python",
   "pygments_lexer": "ipython3",
   "version": "3.8.5"
  },
  "toc": {
   "base_numbering": 1,
   "nav_menu": {},
   "number_sections": true,
   "sideBar": true,
   "skip_h1_title": false,
   "title_cell": "Table of Contents",
   "title_sidebar": "Contents",
   "toc_cell": false,
   "toc_position": {},
   "toc_section_display": true,
   "toc_window_display": false
  }
 },
 "nbformat": 4,
 "nbformat_minor": 4
}
