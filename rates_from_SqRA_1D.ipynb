{
 "cells": [
  {
   "cell_type": "markdown",
   "metadata": {
    "id": "AhasDrpTIvd7"
   },
   "source": [
    "# Estimate rates from SqRA rate matrix 1D"
   ]
  },
  {
   "cell_type": "code",
   "execution_count": 1,
   "metadata": {
    "ExecuteTime": {
     "end_time": "2020-11-13T06:11:52.049504Z",
     "start_time": "2020-11-13T06:11:51.357462Z"
    },
    "executionInfo": {
     "elapsed": 291,
     "status": "ok",
     "timestamp": 1651437357488,
     "user": {
      "displayName": "Jung Nguyen",
      "userId": "01617720629380960952"
     },
     "user_tz": -120
    },
    "id": "Sw0ck75QIvd-"
   },
   "outputs": [],
   "source": [
    "from matplotlib import pyplot as plt\n",
    "from genPCCA import _initialize_rot_matrix, _gram_schmidt_mod, sort_real_schur, _opt_soft\n",
    "\n",
    "import copy\n",
    "import numpy as np\n",
    "import scipy.linalg\n",
    "import scipy.sparse"
   ]
  },
  {
   "cell_type": "markdown",
   "metadata": {
    "id": "TVbCLdVbIvd_"
   },
   "source": [
    "### Adjacency matrix"
   ]
  },
  {
   "cell_type": "code",
   "execution_count": 2,
   "metadata": {
    "executionInfo": {
     "elapsed": 2,
     "status": "ok",
     "timestamp": 1651437360100,
     "user": {
      "displayName": "Jung Nguyen",
      "userId": "01617720629380960952"
     },
     "user_tz": -120
    },
    "id": "we6zqLzVIvd_"
   },
   "outputs": [],
   "source": [
    "def adjancency_matrix_sparse(nbins, nd, periodic=False):\n",
    "    v = np.zeros(nbins)\n",
    "    v[1] = 1\n",
    "    \n",
    "    if periodic:\n",
    "        v[-1] = 1\n",
    "        A0 = scipy.sparse.csc_matrix(scipy.linalg.circulant(v)) #.toarray()\n",
    "    else:\n",
    "        A0 = scipy.sparse.csc_matrix(scipy.linalg.toeplitz(v)) #.toarray()\n",
    "    \n",
    "    A = A0\n",
    "    I2 = scipy.sparse.eye(nbins)  #np.eye(nbins)\n",
    "    for _ in range(1, nd):\n",
    "        I1 = scipy.sparse.eye(*A.shape) #np.eye(*A.shape)\n",
    "        A =  scipy.sparse.kron(A0, I1) + scipy.sparse.kron(I2, A)\n",
    "    return A"
   ]
  },
  {
   "cell_type": "markdown",
   "metadata": {
    "id": "4JTwl51BIvd_"
   },
   "source": [
    "### Spatial discretization (ref: http://www-cs-students.stanford.edu/~amitp/game-programming/polygon-map-generation/)"
   ]
  },
  {
   "cell_type": "markdown",
   "metadata": {
    "id": "K1HoEX06IveA"
   },
   "source": [
    "1. Randomly select your points\n",
    "2. Compute midways between your points\n",
    "    -> The two midways on the two sides of each point, is like\n",
    "       its Voronoi polygon in the Voronoi diagram\n",
    "    -> So let's call the range between these two \"midways\" a Voronoi range!\n",
    "3. Replace each point by the center of its Voronoi range\n",
    "4. If you want the values to be less random, loop back to step 2\n",
    "5. The ranges you are looking for are the Voronoi ranges of the last results."
   ]
  },
  {
   "cell_type": "code",
   "execution_count": 3,
   "metadata": {
    "executionInfo": {
     "elapsed": 4,
     "status": "ok",
     "timestamp": 1651437372009,
     "user": {
      "displayName": "Jung Nguyen",
      "userId": "01617720629380960952"
     },
     "user_tz": -120
    },
    "id": "bNP6tHPlIveA"
   },
   "outputs": [],
   "source": [
    "def find_mid(sorted_list):\n",
    "        acopy = sorted(sorted_list * 2)[1:-1]\n",
    "        mid = [acopy[j]+((acopy[j+1]-acopy[j])/2) for j in range(0, len(acopy),2)]\n",
    "        return mid\n",
    "\n",
    "def generating_bins(E_pot,nedges, loop=2):\n",
    "    # increase loop to have less random discretization\n",
    "    random_float = sorted([np.random.uniform(min(E_pot), max(E_pot)) for i in range(nedges)])\n",
    "    counter = loop\n",
    "    bins = None\n",
    "    \n",
    "    while counter != 0:\n",
    "        if counter == loop:\n",
    "            midpoints = find_mid(random_float)\n",
    "        else:\n",
    "            edge = find_mid(bins)\n",
    "            midpoints = find_mid(edge)\n",
    "        bins = [min(E_pot)] + copy.deepcopy(midpoints) + [max(E_pot)]\n",
    "        counter -= 1\n",
    "        \n",
    "    return bins"
   ]
  },
  {
   "cell_type": "markdown",
   "metadata": {
    "id": "4hBncp71IveB"
   },
   "source": [
    "## 1D system"
   ]
  },
  {
   "cell_type": "code",
   "execution_count": 10,
   "metadata": {
    "ExecuteTime": {
     "end_time": "2020-11-13T09:36:18.859829Z",
     "start_time": "2020-11-13T09:36:18.694310Z"
    },
    "executionInfo": {
     "elapsed": 248,
     "status": "ok",
     "timestamp": 1651437364848,
     "user": {
      "displayName": "Jung Nguyen",
      "userId": "01617720629380960952"
     },
     "user_tz": -120
    },
    "id": "8XyASOcgIveB"
   },
   "outputs": [],
   "source": [
    "# Potential energy function\n",
    "def v1d(x):\n",
    "    return (x**2 - 1)**2 \n",
    "\n",
    "# System parameters\n",
    "kB    = 0.008314463\n",
    "T     = 300\n",
    "mass  = 1\n",
    "gamma = 1\n",
    "D     = kB * T / mass / gamma # diffusion coefficient\n",
    "sigma = np.sqrt(2 * D) # diagonal matrix\n",
    "beta  = 1 / kB / T\n",
    "\n",
    "# Grid\n",
    "nd     = 1  # Number of dimensions\n",
    "nedges = 60 # State boundaries\n",
    "xmin   = -2.8\n",
    "xmax   =  2.8\n",
    "\n",
    "x      = np.linspace(xmin, xmax, nedges)  # array with x edges\n",
    "dx     = x[1] - x[0]\n",
    "x      = x[:-1] + (dx / 2)                # array with x centers\n",
    "xbins  = nedges - 1\n",
    "Nbins  = xbins**nd                        # number of bins"
   ]
  },
  {
   "cell_type": "markdown",
   "metadata": {
    "id": "hfmlAE4aIveB"
   },
   "source": [
    "#### Build SqRA 1D"
   ]
  },
  {
   "cell_type": "code",
   "execution_count": 11,
   "metadata": {
    "ExecuteTime": {
     "end_time": "2020-11-13T09:36:18.859829Z",
     "start_time": "2020-11-13T09:36:18.694310Z"
    },
    "colab": {
     "base_uri": "https://localhost:8080/",
     "height": 282
    },
    "executionInfo": {
     "elapsed": 717,
     "status": "ok",
     "timestamp": 1651437375021,
     "user": {
      "displayName": "Jung Nguyen",
      "userId": "01617720629380960952"
     },
     "user_tz": -120
    },
    "id": "Qqt-nKTqIveB",
    "outputId": "a3870aae-8e16-49d7-a702-676d74c413cd"
   },
   "outputs": [
    {
     "data": {
      "text/plain": [
       "[<matplotlib.lines.Line2D at 0x7fc248b0bf40>]"
      ]
     },
     "execution_count": 11,
     "metadata": {},
     "output_type": "execute_result"
    },
    {
     "data": {
      "image/png": "[encoded data removed]",
      "text/plain": [
       "<Figure size 432x288 with 1 Axes>"
      ]
     },
     "metadata": {
      "needs_background": "light"
     },
     "output_type": "display_data"
    }
   ],
   "source": [
    "A  = adjancency_matrix_sparse(Nbins, nd, periodic=False)\n",
    "\n",
    "# Potential energy of states\n",
    "v = v1d(x)\n",
    "#x1 = np.array([min(x)] + find_mid(generating_bins(x, nedges, loop = 10)) + [max(x)])\n",
    "#x1 = np.array(find_mid(generating_bins(x, xbins, loop = 10)))\n",
    "#v = v1d(x1)\n",
    "\n",
    "\n",
    "# Flux\n",
    "flux = D / dx**2 # Normalisation of Fick's second law?\n",
    "Af   = flux * A \n",
    "\n",
    "# Diagonalization\n",
    "SQRA = np.sqrt(np.exp(- beta * v)) # What happen to the partition function ?\n",
    "SQRA = SQRA / sum(SQRA) # Normalized arithmetic mean of Boltzman density values of points in each Voronoi region\n",
    "Di   = scipy.sparse.spdiags(SQRA, 0, Nbins, Nbins) # right eigenvector of Q''_c with eigenvalues close to 0\n",
    "D1   = scipy.sparse.spdiags(1/SQRA, 0, Nbins, Nbins)       \n",
    "Q    = D1 * Af * Di # basis transformation\n",
    "\n",
    "Q    = Q + scipy.sparse.spdiags(-Q.sum(axis=1).T, 0, Nbins, Nbins) # compute diagonal elements of Q\n",
    "eigenval, eigenvec = scipy.sparse.linalg.eigs(Q.T, 4, which='LR')\n",
    "#plt.plot(v1d(x),'*')\n",
    "plt.plot(v)"
   ]
  },
  {
   "cell_type": "markdown",
   "metadata": {
    "id": "LAjEl_cIIveC"
   },
   "source": [
    "#### Estimate rate from xA = -1 to xB = +1"
   ]
  },
  {
   "cell_type": "code",
   "execution_count": 12,
   "metadata": {
    "ExecuteTime": {
     "end_time": "2020-11-13T09:36:18.859829Z",
     "start_time": "2020-11-13T09:36:18.694310Z"
    },
    "colab": {
     "base_uri": "https://localhost:8080/",
     "height": 321
    },
    "executionInfo": {
     "elapsed": 811,
     "status": "ok",
     "timestamp": 1651437390022,
     "user": {
      "displayName": "Jung Nguyen",
      "userId": "01617720629380960952"
     },
     "user_tz": -120
    },
    "id": "O9vqX2rLIveC",
    "outputId": "a4162716-f85e-42ff-b8df-aaf04c80b1b5"
   },
   "outputs": [
    {
     "name": "stdout",
     "output_type": "stream",
     "text": [
      "Rate from A to B:  0.7153254970609714\n"
     ]
    },
    {
     "data": {
      "text/plain": [
       "<matplotlib.legend.Legend at 0x7fc248b34400>"
      ]
     },
     "execution_count": 12,
     "metadata": {},
     "output_type": "execute_result"
    },
    {
     "data": {
      "image/png": "[encoded data removed]",
      "text/plain": [
       "<Figure size 432x288 with 1 Axes>"
      ]
     },
     "metadata": {
      "needs_background": "light"
     },
     "output_type": "display_data"
    }
   ],
   "source": [
    "iA = np.argwhere(np.abs(x + 1) < 0.05).item() # index of xA\n",
    "iB = np.argwhere(np.abs(x - 1) < 0.05).item() # index of xB\n",
    "\n",
    "xA = x[iA]\n",
    "xB = x[iB]\n",
    "\n",
    "Q1         = scipy.sparse.csr_matrix.copy(Q)\n",
    "Q1         = Q1.toarray()\n",
    "Q1[iB, :]  = 0.0\n",
    "Q1[iB, iB] = -1.0\n",
    "b          = -np.ones(xbins)\n",
    "b[iB]      = 0.0\n",
    "m_t        = np.linalg.solve(Q1, b)\n",
    "k          = 1./m_t[iA]\n",
    "print('Rate from A to B: ', k)\n",
    " \n",
    "plt.plot(x, v1d(x),'k',label='V(x)')\n",
    "plt.plot(xA, v1d(xA), 'go',label='Starting point A')\n",
    "plt.plot(xB, v1d(xB), 'ro',label='Arrival point B')\n",
    "plt.plot(x,m_t,'--',label='MFPT')\n",
    "plt.ylim((0,3))\n",
    "plt.legend()"
   ]
  },
  {
   "cell_type": "markdown",
   "metadata": {
    "id": "cjFOm9ywIveD"
   },
   "source": [
    "#### Estimate rate from set A = [-1.2, -0.7] to set B = [0.8, 1.3]"
   ]
  },
  {
   "cell_type": "code",
   "execution_count": 7,
   "metadata": {
    "id": "jbPi73qzIveD",
    "outputId": "a4063bba-a910-4738-ba4e-08aa197be182"
   },
   "outputs": [
    {
     "name": "stdout",
     "output_type": "stream",
     "text": [
      "Rate from set A to set B:  0.8760825533337232\n"
     ]
    },
    {
     "data": {
      "text/plain": [
       "<matplotlib.legend.Legend at 0x7fc26193e430>"
      ]
     },
     "execution_count": 7,
     "metadata": {},
     "output_type": "execute_result"
    },
    {
     "data": {
      "image/png": "[encoded data removed]",
      "text/plain": [
       "<Figure size 432x288 with 1 Axes>"
      ]
     },
     "metadata": {
      "needs_background": "light"
     },
     "output_type": "display_data"
    }
   ],
   "source": [
    "iAa = np.argwhere(np.abs(x + 1.2) < 0.05).item() # first index of set A\n",
    "iAb = np.argwhere(np.abs(x + 0.7) < 0.05).item() # last index of set A\n",
    "\n",
    "iBa = np.argwhere(np.abs(x - 0.8) < 0.05).item() # first index of set B\n",
    "iBb = np.argwhere(np.abs(x - 1.3) < 0.05).item() # last index of set B\n",
    "\n",
    "setA = np.arange(iAa,iAb)\n",
    "setB = np.arange(iBa,iBb)\n",
    "\n",
    "xA = x[setA]\n",
    "xB = x[setB]\n",
    "\n",
    "W   = np.exp(- beta * v)\n",
    "W   = W[setA]\n",
    "W   = W / np.sum(W)\n",
    "\n",
    "Q2                   = scipy.sparse.csr_matrix.copy(Q)\n",
    "Q2                   = Q2.toarray()\n",
    "Q2[iBa:iBb, :]       = 0.0\n",
    "Q2[iBa:iBb, iBa:iBb] = -np.eye(len(setB))\n",
    "\n",
    "b              = -np.ones(len(Q2))\n",
    "b[setB]        = 0.0\n",
    "m_t            = np.linalg.solve(Q2, b)  #Mean first-passage time to set right (for all possible starting states)\n",
    "m_t_sets       = np.dot(W, m_t[setA])    #Mean first-passage time from set left to set right\n",
    "\n",
    "k              = 1./m_t_sets\n",
    "print('Rate from set A to set B: ', str(k))\n",
    "\n",
    "plt.plot(x, v1d(x),'k',label='V(x)')\n",
    "plt.plot(xA, v1d(xA), 'g',label='Starting set A')\n",
    "plt.plot(xB, v1d(xB), 'r',label='Arrival set B')\n",
    "plt.plot(x,m_t,'--',label='MFPT')\n",
    "plt.ylim((0,3))\n",
    "plt.legend()"
   ]
  },
  {
   "cell_type": "markdown",
   "metadata": {},
   "source": [
    "### Apply PCCA+"
   ]
  },
  {
   "cell_type": "code",
   "execution_count": 13,
   "metadata": {},
   "outputs": [
    {
     "name": "stderr",
     "output_type": "stream",
     "text": [
      "/Users/psireal42/opt/anaconda3/lib/python3.8/site-packages/scipy/sparse/linalg/dsolve/linsolve.py:318: SparseEfficiencyWarning: splu requires CSC matrix format\n",
      "  warn('splu requires CSC matrix format', SparseEfficiencyWarning)\n",
      "/Users/psireal42/opt/anaconda3/lib/python3.8/site-packages/scipy/sparse/linalg/dsolve/linsolve.py:215: SparseEfficiencyWarning: spsolve is more efficient when sparse b is in the CSC matrix format\n",
      "  warn('spsolve is more efficient when sparse b '\n"
     ]
    },
    {
     "data": {
      "image/png": "[encoded data removed]",
      "text/plain": [
       "<Figure size 432x288 with 1 Axes>"
      ]
     },
     "metadata": {
      "needs_background": "light"
     },
     "output_type": "display_data"
    }
   ],
   "source": [
    "EPS = np.finfo(np.float64).eps\n",
    "\n",
    "r = 2 # number of conformations\n",
    "#eigenval, eigenvec = scipy.sparse.linalg.eigs(Q.T, r, which='LR')\n",
    "Q1 = scipy.sparse.csr_matrix.copy(Q)\n",
    "Q1 = scipy.linalg.expm(Q1)\n",
    "U, s, _ = scipy.sparse.linalg.svds(Q1.T)\n",
    "\n",
    "Q2 = scipy.sparse.csr_matrix.toarray(Q1)\n",
    "R, Q_new = scipy.linalg.schur(Q2, output='real')\n",
    "plt.plot(R.diagonal(),'o')\n",
    "\n",
    "Q_new,R, ap = sort_real_schur(Q_new,R,'LM',r)\n",
    "T, _ = scipy.linalg.rsf2csf(R, Q_new)\n",
    "eigenvalues = np.diag(T)[:r]\n",
    "Q, R, eigenvalues = Q_new[:, :r], R[:r, :r], eigenvalues[:r] # sorted_schur\n",
    "\n",
    "eta = np.true_divide(np.ones(Q.shape[0]), Q.shape[0])\n",
    "if not np.allclose(Q.T.dot(Q * eta[:, None]), np.eye(Q.shape[1]), rtol=1e6 * EPS, atol=1e6 * EPS): # do_schur\n",
    "        Q = _gram_schmidt_mod(Q, eta)\n",
    "        # Transform the orthonormalized Schur vectors of P_bar back\n",
    "        # to orthonormalized Schur vectors X of P.\n",
    "        X = np.true_divide(Q, np.sqrt(eta)[:, None])\n",
    "else:\n",
    "        # Search for the constant (Schur) vector, if explicitly present.\n",
    "        n, m = Q.shape\n",
    "        max_i = 0\n",
    "        for i in range(m):\n",
    "            vsum = np.sum(Q[:, i])\n",
    "            dummy = np.ones(Q[:, i].shape) * (vsum / n)\n",
    "            if np.allclose(Q[:, i], dummy, rtol=1e-6, atol=1e-5):\n",
    "                max_i = i  # TODO: check, if more than one vec fulfills this\n",
    "\n",
    "        # Shift non-constant first (Schur) vector to the right.\n",
    "        Q[:, max_i] = Q[:, 0]\n",
    "        # Transform the orthonormalized Schur vectors of P_bar back\n",
    "        # to orthonormalized Schur vectors X of P.\n",
    "        X = np.true_divide(Q, np.sqrt(eta)[:, None])\n",
    "        # Set first (Schur) vector equal 1.\n",
    "        X[:, 0] = 1.0\n",
    "\n",
    "\n",
    "rot_matrix = _initialize_rot_matrix(X)\n",
    "rot_matrix, chi, fopt = _opt_soft(X, rot_matrix) # membership functions\n",
    "crispness = (r - fopt) / r\n",
    "\n",
    "plt.plot(chi)\n",
    "plt.show()\n",
    "\n",
    "\n"
   ]
  },
  {
   "cell_type": "code",
   "execution_count": null,
   "metadata": {},
   "outputs": [],
   "source": []
  },
  {
   "cell_type": "code",
   "execution_count": null,
   "metadata": {},
   "outputs": [],
   "source": []
  },
  {
   "cell_type": "code",
   "execution_count": null,
   "metadata": {},
   "outputs": [],
   "source": []
  },
  {
   "cell_type": "code",
   "execution_count": null,
   "metadata": {},
   "outputs": [],
   "source": []
  }
 ],
 "metadata": {
  "colab": {
   "name": "rates_from_SqRA_1D.ipynb",
   "provenance": []
  },
  "kernelspec": {
   "display_name": "Python 3 (ipykernel)",
   "language": "python",
   "name": "python3"
  },
  "language_info": {
   "codemirror_mode": {
    "name": "ipython",
    "version": 3
   },
   "file_extension": ".py",
   "mimetype": "text/x-python",
   "name": "python",
   "nbconvert_exporter": "python",
   "pygments_lexer": "ipython3",
   "version": "3.8.5"
  },
  "toc": {
   "base_numbering": 1,
   "nav_menu": {},
   "number_sections": true,
   "sideBar": true,
   "skip_h1_title": false,
   "title_cell": "Table of Contents",
   "title_sidebar": "Contents",
   "toc_cell": false,
   "toc_position": {},
   "toc_section_display": true,
   "toc_window_display": false
  }
 },
 "nbformat": 4,
 "nbformat_minor": 4
}
