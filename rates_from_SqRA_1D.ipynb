{
 "cells": [
  {
   "cell_type": "markdown",
   "metadata": {
    "id": "AhasDrpTIvd7"
   },
   "source": [
    "# Estimate rates from SqRA rate matrix 1D"
   ]
  },
  {
   "cell_type": "code",
   "execution_count": 10,
   "metadata": {
    "ExecuteTime": {
     "end_time": "2020-11-13T06:11:52.049504Z",
     "start_time": "2020-11-13T06:11:51.357462Z"
    },
    "executionInfo": {
     "elapsed": 291,
     "status": "ok",
     "timestamp": 1651437357488,
     "user": {
      "displayName": "Jung Nguyen",
      "userId": "01617720629380960952"
     },
     "user_tz": -120
    },
    "id": "Sw0ck75QIvd-"
   },
   "outputs": [],
   "source": [
    "from matplotlib import pyplot as plt\n",
    "from scipy.linalg import rsf2csf, subspace_angles\n",
    "from typing import Dict, List, Tuple, Union, Callable, Optional, TYPE_CHECKING\n",
    "import copy\n",
    "import numpy as np\n",
    "import scipy.linalg\n",
    "import scipy.sparse\n",
    "import scipy.sparse.linalg\n"
   ]
  },
  {
   "cell_type": "markdown",
   "metadata": {
    "id": "TVbCLdVbIvd_"
   },
   "source": [
    "### Adjacency matrix"
   ]
  },
  {
   "cell_type": "code",
   "execution_count": 23,
   "metadata": {
    "executionInfo": {
     "elapsed": 2,
     "status": "ok",
     "timestamp": 1651437360100,
     "user": {
      "displayName": "Jung Nguyen",
      "userId": "01617720629380960952"
     },
     "user_tz": -120
    },
    "id": "we6zqLzVIvd_"
   },
   "outputs": [],
   "source": [
    "def adjancency_matrix_sparse(nbins, nd, periodic=False):\n",
    "    v = np.zeros(nbins)\n",
    "    v[1] = 1\n",
    "    \n",
    "    if periodic:\n",
    "        v[-1] = 1\n",
    "        A0 = scipy.sparse.csc_matrix(scipy.linalg.circulant(v)) #.toarray()\n",
    "    else:\n",
    "        A0 = scipy.sparse.csc_matrix(scipy.linalg.toeplitz(v)) #.toarray()\n",
    "    \n",
    "    A = A0\n",
    "    I2 = scipy.sparse.eye(nbins)  #np.eye(nbins)\n",
    "    for _ in range(1, nd):\n",
    "        I1 = scipy.sparse.eye(*A.shape) #np.eye(*A.shape)\n",
    "        A =  scipy.sparse.kron(A0, I1) + scipy.sparse.kron(I2, A)\n",
    "    return A"
   ]
  },
  {
   "cell_type": "markdown",
   "metadata": {
    "id": "4JTwl51BIvd_"
   },
   "source": [
    "### Spatial discretization (ref: http://www-cs-students.stanford.edu/~amitp/game-programming/polygon-map-generation/)"
   ]
  },
  {
   "cell_type": "markdown",
   "metadata": {
    "id": "K1HoEX06IveA"
   },
   "source": [
    "1. Randomly select your points\n",
    "2. Compute midways between your points\n",
    "    -> The two midways on the two sides of each point, is like\n",
    "       its Voronoi polygon in the Voronoi diagram\n",
    "    -> So let's call the range between these two \"midways\" a Voronoi range!\n",
    "3. Replace each point by the center of its Voronoi range\n",
    "4. If you want the values to be less random, loop back to step 2\n",
    "5. The ranges you are looking for are the Voronoi ranges of the last results."
   ]
  },
  {
   "cell_type": "code",
   "execution_count": 24,
   "metadata": {
    "executionInfo": {
     "elapsed": 4,
     "status": "ok",
     "timestamp": 1651437372009,
     "user": {
      "displayName": "Jung Nguyen",
      "userId": "01617720629380960952"
     },
     "user_tz": -120
    },
    "id": "bNP6tHPlIveA"
   },
   "outputs": [],
   "source": [
    "def find_mid(sorted_list):\n",
    "        acopy = sorted(sorted_list * 2)[1:-1]\n",
    "        mid = [acopy[j]+((acopy[j+1]-acopy[j])/2) for j in range(0, len(acopy),2)]\n",
    "        return mid\n",
    "\n",
    "def generating_bins(E_pot,nedges, loop=2):\n",
    "    # increase loop to have less random discretization\n",
    "    random_float = sorted([np.random.uniform(min(E_pot), max(E_pot)) for i in range(nedges)])\n",
    "    counter = loop\n",
    "    bins = None\n",
    "    \n",
    "    while counter != 0:\n",
    "        if counter == loop:\n",
    "            midpoints = find_mid(random_float)\n",
    "        else:\n",
    "            edge = find_mid(bins)\n",
    "            midpoints = find_mid(edge)\n",
    "        bins = [min(E_pot)] + copy.deepcopy(midpoints) + [max(E_pot)]\n",
    "        counter -= 1\n",
    "        \n",
    "    return bins"
   ]
  },
  {
   "cell_type": "markdown",
   "metadata": {
    "id": "4hBncp71IveB"
   },
   "source": [
    "## 1D system"
   ]
  },
  {
   "cell_type": "code",
   "execution_count": 25,
   "metadata": {
    "ExecuteTime": {
     "end_time": "2020-11-13T09:36:18.859829Z",
     "start_time": "2020-11-13T09:36:18.694310Z"
    },
    "executionInfo": {
     "elapsed": 248,
     "status": "ok",
     "timestamp": 1651437364848,
     "user": {
      "displayName": "Jung Nguyen",
      "userId": "01617720629380960952"
     },
     "user_tz": -120
    },
    "id": "8XyASOcgIveB"
   },
   "outputs": [],
   "source": [
    "# Potential energy function\n",
    "def v1d(x):\n",
    "    return (x**2 - 1)**2 \n",
    "\n",
    "# System parameters\n",
    "kB    = 0.008314463\n",
    "T     = 300\n",
    "mass  = 1\n",
    "gamma = 1\n",
    "D     = kB * T / mass / gamma # diffusion coefficient\n",
    "sigma = np.sqrt(2 * D) # diagonal matrix\n",
    "beta  = 1 / kB / T\n",
    "\n",
    "# Grid\n",
    "nd     = 1  # Number of dimensions\n",
    "nedges = 60 # State boundaries\n",
    "xmin   = -2.8\n",
    "xmax   =  2.8\n",
    "\n",
    "x      = np.linspace(xmin, xmax, nedges)  # array with x edges\n",
    "dx     = x[1] - x[0]\n",
    "x      = x[:-1] + (dx / 2)                # array with x centers\n",
    "xbins  = nedges - 1\n",
    "Nbins  = xbins**nd                        # number of bins"
   ]
  },
  {
   "cell_type": "markdown",
   "metadata": {
    "id": "hfmlAE4aIveB"
   },
   "source": [
    "#### Build SqRA 1D"
   ]
  },
  {
   "cell_type": "code",
   "execution_count": 32,
   "metadata": {
    "ExecuteTime": {
     "end_time": "2020-11-13T09:36:18.859829Z",
     "start_time": "2020-11-13T09:36:18.694310Z"
    },
    "colab": {
     "base_uri": "https://localhost:8080/",
     "height": 282
    },
    "executionInfo": {
     "elapsed": 717,
     "status": "ok",
     "timestamp": 1651437375021,
     "user": {
      "displayName": "Jung Nguyen",
      "userId": "01617720629380960952"
     },
     "user_tz": -120
    },
    "id": "Qqt-nKTqIveB",
    "outputId": "a3870aae-8e16-49d7-a702-676d74c413cd"
   },
   "outputs": [
    {
     "data": {
      "text/plain": [
       "[<matplotlib.lines.Line2D at 0x7f8d745a3910>]"
      ]
     },
     "execution_count": 32,
     "metadata": {},
     "output_type": "execute_result"
    },
    {
     "data": {
      "image/png": "[encoded data removed]",
      "text/plain": [
       "<Figure size 432x288 with 1 Axes>"
      ]
     },
     "metadata": {
      "needs_background": "light"
     },
     "output_type": "display_data"
    }
   ],
   "source": [
    "A  = adjancency_matrix_sparse(Nbins, nd, periodic=False)\n",
    "\n",
    "# Potential energy of states\n",
    "v = v1d(x)\n",
    "#x1 = np.array([min(x)] + find_mid(generating_bins(x, nedges, loop = 10)) + [max(x)])\n",
    "#x1 = np.array(find_mid(generating_bins(x, xbins, loop = 10)))\n",
    "#v = v1d(x1)\n",
    "\n",
    "\n",
    "# Flux\n",
    "flux = D / dx**2 # Normalisation of Fick's second law?\n",
    "Af   = flux * A \n",
    "\n",
    "# Diagonalization\n",
    "SQRA = np.sqrt(np.exp(- beta * v)) # What happen to the partition function ?\n",
    "SQRA = SQRA / sum(SQRA) # Normalized arithmetic mean of Boltzman density values of points in each Voronoi region\n",
    "Di   = scipy.sparse.spdiags(SQRA, 0, Nbins, Nbins) # right eigenvector of Q''_c with eigenvalues close to 0\n",
    "D1   = scipy.sparse.spdiags(1/SQRA, 0, Nbins, Nbins)       \n",
    "Q    = D1 * Af * Di # basis transformation\n",
    "\n",
    "Q    = Q + scipy.sparse.spdiags(-Q.sum(axis=1).T, 0, Nbins, Nbins) # compute diagonal elements of Q\n",
    "eigenval, eigenvec = scipy.sparse.linalg.eigs(Q.T, 4, which='LR')\n",
    "#plt.plot(v1d(x),'*')\n",
    "plt.plot(v)"
   ]
  },
  {
   "cell_type": "markdown",
   "metadata": {
    "id": "LAjEl_cIIveC"
   },
   "source": [
    "#### Estimate rate from xA = -1 to xB = +1"
   ]
  },
  {
   "cell_type": "code",
   "execution_count": 27,
   "metadata": {
    "ExecuteTime": {
     "end_time": "2020-11-13T09:36:18.859829Z",
     "start_time": "2020-11-13T09:36:18.694310Z"
    },
    "colab": {
     "base_uri": "https://localhost:8080/",
     "height": 321
    },
    "executionInfo": {
     "elapsed": 811,
     "status": "ok",
     "timestamp": 1651437390022,
     "user": {
      "displayName": "Jung Nguyen",
      "userId": "01617720629380960952"
     },
     "user_tz": -120
    },
    "id": "O9vqX2rLIveC",
    "outputId": "a4162716-f85e-42ff-b8df-aaf04c80b1b5",
    "scrolled": false
   },
   "outputs": [
    {
     "name": "stdout",
     "output_type": "stream",
     "text": [
      "Rate from A to B:  0.7153254970609757\n"
     ]
    },
    {
     "data": {
      "text/plain": [
       "<matplotlib.legend.Legend at 0x7f8d7465c880>"
      ]
     },
     "execution_count": 27,
     "metadata": {},
     "output_type": "execute_result"
    },
    {
     "data": {
      "image/png": "[encoded data removed]",
      "text/plain": [
       "<Figure size 432x288 with 1 Axes>"
      ]
     },
     "metadata": {
      "needs_background": "light"
     },
     "output_type": "display_data"
    }
   ],
   "source": [
    "iA = np.argwhere(np.abs(x + 1) < 0.05).item() # index of xA\n",
    "iB = np.argwhere(np.abs(x - 1) < 0.05).item() # index of xB\n",
    "\n",
    "xA = x[iA]\n",
    "xB = x[iB]\n",
    "\n",
    "Q1         = scipy.sparse.csr_matrix.copy(Q)\n",
    "Q1         = Q1.toarray()\n",
    "Q1[iB, :]  = 0.0\n",
    "Q1[iB, iB] = -1.0\n",
    "b          = -np.ones(xbins)\n",
    "b[iB]      = 0.0\n",
    "m_t        = np.linalg.solve(Q1, b)\n",
    "k          = 1./m_t[iA]\n",
    "print('Rate from A to B: ', k)\n",
    " \n",
    "plt.plot(x, v1d(x),'k',label='V(x)')\n",
    "plt.plot(xA, v1d(xA), 'go',label='Starting point A')\n",
    "plt.plot(xB, v1d(xB), 'ro',label='Arrival point B')\n",
    "plt.plot(x,m_t,'--',label='MFPT')\n",
    "plt.ylim((0,3))\n",
    "plt.legend()"
   ]
  },
  {
   "cell_type": "markdown",
   "metadata": {
    "id": "cjFOm9ywIveD"
   },
   "source": [
    "#### Estimate rate from set A = [-1.2, -0.7] to set B = [0.8, 1.3]"
   ]
  },
  {
   "cell_type": "code",
   "execution_count": 28,
   "metadata": {
    "id": "jbPi73qzIveD",
    "outputId": "a4063bba-a910-4738-ba4e-08aa197be182"
   },
   "outputs": [
    {
     "name": "stdout",
     "output_type": "stream",
     "text": [
      "Rate from set A to set B:  0.8760825533337278\n"
     ]
    },
    {
     "data": {
      "text/plain": [
       "<matplotlib.legend.Legend at 0x7f8d7465c8b0>"
      ]
     },
     "execution_count": 28,
     "metadata": {},
     "output_type": "execute_result"
    },
    {
     "data": {
      "image/png": "[encoded data removed]",
      "text/plain": [
       "<Figure size 432x288 with 1 Axes>"
      ]
     },
     "metadata": {
      "needs_background": "light"
     },
     "output_type": "display_data"
    }
   ],
   "source": [
    "iAa = np.argwhere(np.abs(x + 1.2) < 0.05).item() # first index of set A\n",
    "iAb = np.argwhere(np.abs(x + 0.7) < 0.05).item() # last index of set A\n",
    "\n",
    "iBa = np.argwhere(np.abs(x - 0.8) < 0.05).item() # first index of set B\n",
    "iBb = np.argwhere(np.abs(x - 1.3) < 0.05).item() # last index of set B\n",
    "\n",
    "setA = np.arange(iAa,iAb)\n",
    "setB = np.arange(iBa,iBb)\n",
    "\n",
    "xA = x[setA]\n",
    "xB = x[setB]\n",
    "\n",
    "W   = np.exp(- beta * v)\n",
    "W   = W[setA]\n",
    "W   = W / np.sum(W)\n",
    "\n",
    "Q2                   = scipy.sparse.csr_matrix.copy(Q)\n",
    "Q2                   = Q2.toarray()\n",
    "Q2[iBa:iBb, :]       = 0.0\n",
    "Q2[iBa:iBb, iBa:iBb] = -np.eye(len(setB))\n",
    "\n",
    "b              = -np.ones(len(Q2))\n",
    "b[setB]        = 0.0\n",
    "m_t            = np.linalg.solve(Q2, b)  #Mean first-passage time to set right (for all possible starting states)\n",
    "m_t_sets       = np.dot(W, m_t[setA])    #Mean first-passage time from set left to set right\n",
    "\n",
    "k              = 1./m_t_sets\n",
    "print('Rate from set A to set B: ', str(k))\n",
    "\n",
    "plt.plot(x, v1d(x),'k',label='V(x)')\n",
    "plt.plot(xA, v1d(xA), 'g',label='Starting set A')\n",
    "plt.plot(xB, v1d(xB), 'r',label='Arrival set B')\n",
    "plt.plot(x,m_t,'--',label='MFPT')\n",
    "plt.ylim((0,3))\n",
    "plt.legend()"
   ]
  },
  {
   "cell_type": "markdown",
   "metadata": {},
   "source": [
    "#### PCCA+"
   ]
  },
  {
   "cell_type": "code",
   "execution_count": 29,
   "metadata": {
    "id": "cIiV4D1zIveE"
   },
   "outputs": [],
   "source": [
    "from scipy.optimize import fmin\n",
    "\n",
    "\n",
    "EPS = np.finfo(np.float64).eps\n",
    "\n",
    "expensive_asserts = False\n",
    "\n",
    "\n",
    "def _objective(alpha: np.ndarray, X: np.ndarray) -> float:\n",
    "    \"\"\"\n",
    "    Compute objective function value.\n",
    "    Parameters\n",
    "    ----------\n",
    "    alpha\n",
    "        Vector of shape `((m - 1) ^ 2,)` containing the flattened and\n",
    "        cropped rotation matrix ``rot_matrix[1:, 1:]``.\n",
    "    X\n",
    "        %(Q_sort)s\n",
    "    Returns\n",
    "    -------\n",
    "    Current value of the objective function :math:`f = m - trace(S)`\n",
    "    (Eq. 16 from [Roeblitz13]_).\n",
    "    \"\"\"\n",
    "    # Dimensions.\n",
    "    n, m = X.shape\n",
    "    k = m - 1\n",
    "\n",
    "    # Initialize rotation matrix.\n",
    "    rot_mat = np.zeros((m, m), dtype=np.float64)\n",
    "\n",
    "    # Sanity checks.\n",
    "    if alpha.shape[0] != k ** 2:\n",
    "        raise ValueError(\n",
    "            \"The shape of alpha doesn't match with the shape of X: \"\n",
    "            f\"It is not a ({k}^2,)-vector, but of dimension {alpha.shape}. X is of shape `{X.shape}`.\"\n",
    "        )\n",
    "\n",
    "    # Now reshape alpha into a (k,k)-matrix.\n",
    "    rot_crop_matrix = np.reshape(alpha, (k, k))\n",
    "\n",
    "    # Complete rot_mat to meet constraints (positivity, partition of unity).\n",
    "    rot_mat[1:, 1:] = rot_crop_matrix\n",
    "    rot_mat = _fill_matrix(rot_mat, X)\n",
    "\n",
    "    # Compute value of the objective function.\n",
    "    # from Matlab: optval = m - trace( diag(1 ./ A(1,:)) * (A' * A) )\n",
    "    return m - np.trace(np.diag(1.0 / rot_mat[0, :]).dot(rot_mat.conj().T.dot(rot_mat)))  # type: ignore[no-any-return]\n",
    "\n",
    "def _indexsearch(X: np.ndarray) -> np.ndarray:\n",
    "    \"\"\"\n",
    "    Find a simplex structure in the data.\n",
    "    Parameters\n",
    "    ----------\n",
    "    X\n",
    "        %(Q_sort)s\n",
    "    Returns\n",
    "    -------\n",
    "    Vector of shape `(m,)` with indices of data points that constitute the\n",
    "    vertices of a simplex.\n",
    "    \"\"\"\n",
    "    n, m = X.shape\n",
    "\n",
    "    # Sanity check.\n",
    "    if n < m:\n",
    "        raise ValueError(\n",
    "            f\"The Schur vector matrix of shape {X.shape} has more columns than rows. \"\n",
    "            f\"You can't get a {m}-dimensional simplex from {n} data vectors.\"\n",
    "        )\n",
    "    # Check if the first, and only the first eigenvector is constant.\n",
    "    diffs = np.abs(np.max(X, axis=0) - np.min(X, axis=0))\n",
    "    if not np.isclose(1.0 + diffs[0], 1.0, rtol=1e-6):\n",
    "        raise ValueError(\n",
    "            f\"First Schur vector is not constant 1. This indicates that the Schur vectors \"\n",
    "            f\"are incorrectly sorted. Cannot search for a simplex structure in the data. The largest deviation from 1 \"\n",
    "            f\"is {diffs[0]}.\"\n",
    "        )\n",
    "    if not np.all(diffs[1:] > 1e-6):\n",
    "        which = np.sum(diffs[1:] <= 1e-6)\n",
    "        raise ValueError(\n",
    "            f\"{which} Schur vector(s) after the first one are constant. Probably the Schur vectors \"\n",
    "            \"are incorrectly sorted. Cannot search for a simplex structure in the data.\"\n",
    "        )\n",
    "\n",
    "    # local copy of the eigenvectors\n",
    "    ortho_sys = np.copy(X)\n",
    "\n",
    "    index = np.zeros(m, dtype=np.int64)\n",
    "    max_dist = 0.0\n",
    "\n",
    "    # First vertex: row with largest norm.\n",
    "    for i in range(n):\n",
    "        dist = np.linalg.norm(ortho_sys[i, :])\n",
    "        if dist > max_dist:\n",
    "            max_dist = dist\n",
    "            index[0] = i\n",
    "\n",
    "    # Translate coordinates to make the first vertex the origin.\n",
    "    ortho_sys -= np.ones((n, 1)).dot(ortho_sys[index[0], np.newaxis])\n",
    "    # Would be shorter, but less readable: ortho_sys -= X[index[0], np.newaxis]\n",
    "\n",
    "    # All further vertices as rows with maximum distance to existing subspace.\n",
    "    for j in range(1, m):\n",
    "        max_dist = 0.0\n",
    "        temp = np.copy(ortho_sys[index[j - 1], :])\n",
    "        for i in range(n):\n",
    "            sclprod = ortho_sys[i, :].dot(temp)\n",
    "            ortho_sys[i, :] -= sclprod * temp\n",
    "            distt = np.linalg.norm(ortho_sys[i, :])\n",
    "            if distt > max_dist:  # and i not in index[0:j]: #in _pcca_connected_isa() of pcca.py\n",
    "                max_dist = distt\n",
    "                index[j] = i\n",
    "        ortho_sys /= max_dist\n",
    "\n",
    "    return index\n",
    "\n",
    "def _initialize_rot_matrix(X: np.ndarray) -> np.ndarray:\n",
    "    \"\"\"\n",
    "    Initialize the rotation matrix.\n",
    "    Parameters\n",
    "    ----------\n",
    "    X\n",
    "        %(Q_sort)s\n",
    "    Returns\n",
    "    -------\n",
    "    Initial (non-optimized) rotation matrix of shape `(m, m)`.\n",
    "    \"\"\"\n",
    "    # Search start simplex vertices ('inner simplex algorithm').\n",
    "    index = _indexsearch(X)\n",
    "\n",
    "    # Local copy of the Schur vectors.\n",
    "    # Xc = np.copy(X)\n",
    "\n",
    "    # Raise or warn if condition number is (too) high.\n",
    "    condition = np.linalg.cond(X[index, :])\n",
    "    if condition >= (1.0 / EPS):\n",
    "        raise ValueError(\n",
    "            f\"The condition number {condition} of the matrix of start simplex vertices \"\n",
    "            \"X[index, :] is too high for safe inversion (to build the initial rotation matrix).\"\n",
    "        )\n",
    "    if condition > 1e4:\n",
    "        warnings.warn(\n",
    "            f\"The condition number {condition} of the matrix of start simplex vertices \"\n",
    "            \"X[index, :] is quite high for safe inversion (to build the initial rotation matrix).\"\n",
    "        )\n",
    "\n",
    "    # Compute transformation matrix rot_matrix as initial guess for local optimization (maybe not feasible!).\n",
    "    return np.linalg.pinv(X[index, :])\n",
    "\n",
    "\n",
    "def _fill_matrix(rot_matrix: np.ndarray, X: np.ndarray) -> np.ndarray:\n",
    "    \"\"\"\n",
    "    Make the rotation matrix feasible.\n",
    "    Parameters\n",
    "    ----------\n",
    "    rot_matrix\n",
    "        (Infeasible) rotation matrix of shape `(m, m)`.\n",
    "    X\n",
    "        %(Q_sort)s\n",
    "    Returns\n",
    "    -------\n",
    "    Feasible rotation matrix of shape `(m, m)`.\n",
    "    \"\"\"\n",
    "    n, m = X.shape\n",
    "\n",
    "    # Sanity checks.\n",
    "    if not (rot_matrix.shape[0] == rot_matrix.shape[1]):\n",
    "        raise ValueError(\"Rotation matrix isn't quadratic.\")\n",
    "    if not (rot_matrix.shape[0] == m):\n",
    "        raise ValueError(\"The dimensions of the rotation matrix don't match with the number of Schur vectors.\")\n",
    "\n",
    "    # Compute first column of rot_mat by row sum condition.\n",
    "    rot_matrix[1:, 0] = -np.sum(rot_matrix[1:, 1:], axis=1)\n",
    "\n",
    "    # Compute first row of A by maximum condition.\n",
    "    dummy = -np.dot(X[:, 1:], rot_matrix[1:, :])\n",
    "    rot_matrix[0, :] = np.max(dummy, axis=0)\n",
    "\n",
    "    # Reskale rot_mat to be in the feasible set.\n",
    "    rot_matrix = rot_matrix / np.sum(rot_matrix[0, :])\n",
    "\n",
    "    # Make sure, that there are no zero or negative elements in the first row of A.\n",
    "    if np.any(rot_matrix[0, :] == 0):\n",
    "        raise ValueError(\"First row of rotation matrix has elements = 0.\")\n",
    "    if np.min(rot_matrix[0, :]) < 0:\n",
    "        raise ValueError(\"First row of rotation matrix has elements < 0.\")\n",
    "\n",
    "    return rot_matrix\n",
    "\n",
    "def _opt_soft(X: np.ndarray, rot_matrix: np.ndarray) -> Tuple[np.ndarray, np.ndarray, float]:\n",
    "    r\"\"\"\n",
    "    Optimize the G-PCCA rotation matrix such that the memberships are\n",
    "    exclusively non-negative and compute the membership matrix.\n",
    "    Parameters\n",
    "    ----------\n",
    "    X\n",
    "        %(Q_sort)s\n",
    "    rot_matrix\n",
    "        Initial (non-optimized) rotation matrix of shape `(m, m)`.\n",
    "    Returns\n",
    "    -------\n",
    "    Triple of the following:\n",
    "    rot_matrix\n",
    "        %(rot_matrix_ret)s\n",
    "    chi\n",
    "        %(chi_ret)s\n",
    "    fopt\n",
    "        Optimal value of the objective function :math:`f_{opt} = m - \\\\mathtt{trace}(S)`\n",
    "        (Eq. 16 from [Roeblitz13]_).\n",
    "    \"\"\"  # noqa: D205, D400\n",
    "    n, m = X.shape\n",
    "\n",
    "    # Sanity checks.\n",
    "    if not (rot_matrix.shape[0] == rot_matrix.shape[1]):\n",
    "        raise ValueError(\"Rotation matrix isn't quadratic.\")\n",
    "    if not (rot_matrix.shape[0] == m):\n",
    "        raise ValueError(\"The dimensions of the rotation matrix don't match with the number of Schur vectors.\")\n",
    "    if rot_matrix.shape[0] < 2:\n",
    "        raise ValueError(f\"Expected the rotation matrix to be at least of shape (2, 2), found {rot_matrix.shape}.\")\n",
    "\n",
    "    # Reduce optimization problem to size (m-1)^2 by cropping the first row and first column from rot_matrix\n",
    "    rot_crop_matrix = rot_matrix[1:, 1:]\n",
    "\n",
    "    # Now reshape rot_crop_matrix into a linear vector alpha.\n",
    "    k = m - 1\n",
    "    alpha = np.reshape(rot_crop_matrix, k ** 2)\n",
    "    # TODO: Implement Gauss Newton Optimization to speed things up esp. for m > 10\n",
    "    alpha, fopt, _, _, _ = fmin(_objective, alpha, args=(X,), full_output=True, disp=False)\n",
    "\n",
    "    # Now reshape alpha into a (k,k)-matrix.\n",
    "    rot_crop_matrix = np.reshape(alpha, (k, k))\n",
    "\n",
    "    # Complete rot_mat to meet constraints (positivity, partition of unity).\n",
    "    rot_matrix[1:, 1:] = rot_crop_matrix\n",
    "    rot_matrix = _fill_matrix(rot_matrix, X)\n",
    "\n",
    "    # Compute the membership matrix.\n",
    "    chi = np.dot(X, rot_matrix)\n",
    "\n",
    "    # Check for negative elements in chi and handle them.\n",
    "    if np.any(chi < 0.0):\n",
    "        if np.any(chi < -1e4 * EPS):\n",
    "            min_el = np.min(chi)\n",
    "            raise ValueError(f\"Some elements of chi are significantly negative. The minimal element in chi is {min_el}\")\n",
    "        else:\n",
    "            chi[chi < 0.0] = 0.0\n",
    "            chi = np.true_divide(1.0, np.sum(chi, axis=1))[:, np.newaxis] * chi\n",
    "            if not np.allclose(np.sum(chi, axis=1), 1.0, atol=1e-8, rtol=1e-5):\n",
    "                dev = np.max(np.abs(np.sum(chi, axis=1) - 1.0))\n",
    "                raise ValueError(\n",
    "                    f\"The rows of chi don't sum up to 1.0 after rescaling. Maximum deviation from 1 is {dev}\"\n",
    "                )\n",
    "\n",
    "    return rot_matrix, chi, fopt\n",
    "\n",
    "def sort_real_schur(\n",
    "    Q: np.ndarray, R: np.ndarray, z: str, b: float, inplace: bool = False\n",
    ") -> Tuple[np.ndarray, np.ndarray, List[float]]:\n",
    "    r\"\"\"\n",
    "    Partially or completely sort the real Schur form `R` and  Schur vectors `Q` of a square matrix `A`.\n",
    "    The diagonal blocks of `R` will be ordered with respect to a target `z`.\n",
    "    The blocks on the diagonal are associated with either real eigenvalues,\n",
    "    in case of 1x1 blocks, or pairs of complex eigenvalues, in case of 2x2 blocks.\n",
    "    The number of ordered blocks is determined by a parameter `b`.\n",
    "    A vector `ap` warns for inaccuracy of the solution, if an entry of `ap` exceeds one.\n",
    "    This function is based on MATLAB code originally published by Brandts [Brandts02]_.\n",
    "    Parameters\n",
    "    ----------\n",
    "    Q\n",
    "        Orthogonal real matrix `Q` of Schur vectors such that :math:`AQ = QR`.\n",
    "    R\n",
    "        Quasi-triangular real Schur form `R` such that :math:`AQ = QR`.\n",
    "    %(z)s\n",
    "    b\n",
    "        Determines the length of the ordering with respect to `z`.\n",
    "        Valid options are:\n",
    "            - ``b < 0``: ``-b`` blocks will be sorted.\n",
    "            - ``b > 0``: b or ``b + 1`` eigenvalues will be sorted,\n",
    "              depending on the sizes of the blocks.\n",
    "            - ``b = 0``: the whole Schur form will be sorted.\n",
    "    inplace\n",
    "        Determines, if the supplied `Q` and `R` matrices are sorted in place (``ìnplace = True``) or\n",
    "        if copies are made and sorted (``inplace = False``; default).\n",
    "    Returns\n",
    "    -------\n",
    "    Tuple of the following:\n",
    "        - Q : orthogonal real `(n, n)` Schur vector matrix `Q` such that :math:`AQ = QR`\n",
    "          with the diagonal blocks ordered with respect to the target `z`.\n",
    "        - R : quasi-triangular real `(n, n)` Schur matrix `R` such that :math:`AQ = QR`\n",
    "          with the diagonal blocks ordered with respect to the target `z`.\n",
    "        - ap : A list `ap` warns for inaccuracy of the solution, if an entry of `ap` exceeds one.\n",
    "    \"\"\"  # noqa: D401\n",
    "    eps = np.finfo(R.dtype).eps\n",
    "    if not np.all(np.abs(np.tril(R, -2)) <= 100 * eps):\n",
    "        raise ValueError(\"R is not block-triangular.\")\n",
    "    if not inplace:\n",
    "        Q = Q.copy()\n",
    "        R = R.copy()\n",
    "\n",
    "    r = np.where(np.abs(np.diag(R, -1)) > 100 * eps)[0]  # detect sub-diagonal nonzero entries\n",
    "    s = [\n",
    "        i for i in range(R.shape[0] + 1) if i not in r + 1\n",
    "    ]  # construct from them a vector s with the-top left positions of each block\n",
    "\n",
    "    p = np.empty((len(s) - 1,), dtype=np.complex128)\n",
    "\n",
    "    for k in range(1, len(s) - 1):  # debug\n",
    "        assert R[s[k], s[k] - 1] <= 100 * eps  # debug\n",
    "\n",
    "    for k in range(len(s) - 1):  # ranging over all blocks\n",
    "        sk = s[k]\n",
    "        if s[k + 1] - sk == 2:  # if the block is 2x2\n",
    "            Q, R = normalize(Q, R, slice(sk, s[k + 1]), inplace=True)  # normalize it\n",
    "            # store the eigenvalues\n",
    "            p[k] = R[sk, sk] + np.lib.scimath.sqrt(R[sk + 1, sk] * R[sk, sk + 1])  # type: ignore[attr-defined]\n",
    "        else:  # (the one with the positive imaginary part is sufficient)\n",
    "            assert s[k + 1] - sk == 1  # debug\n",
    "            p[k] = R[s[k], s[k]]  # if the block is 1x1, only store the eigenvalue\n",
    "\n",
    "    ap = []\n",
    "\n",
    "    for k in swaplist(p, s, z, b):  # For k ranging over all neighbor-swaps\n",
    "        assert k + 2 < len(s)  # debug\n",
    "        v = list(range(s[k], s[k + 1]))  # collect the coordinates of the blocks\n",
    "        w = list(range(s[k + 1], s[k + 2]))\n",
    "        assert v[0] != w[0]  # debug\n",
    "        if len(v) == 2:\n",
    "            assert v[0] < v[1]  # debug\n",
    "        if len(w) == 2:\n",
    "            assert w[0] < w[1]  # debug\n",
    "        if (\n",
    "            __debug__ and expensive_asserts\n",
    "        ):  # debug: check that we are moving the larger eigenvalues to the left (expensive test)\n",
    "            if v[0] < w[0]:  # debug\n",
    "                arr = [p[k], p[k + 1]]  # debug\n",
    "                _, which = select(arr, z)  # debug\n",
    "                assert which == 1  # debug\n",
    "            else:  # debug\n",
    "                arr = [p[k + 1], p[k]]  # debug\n",
    "                _, which = select(arr, z)  # debug\n",
    "                assert which == 1  # debug\n",
    "        vw = v + w\n",
    "        nrA = np.linalg.norm(R[vw, :][:, vw], ord=np.inf)  # compute norm of the matrix A from eq. (6)\n",
    "        Q, R = swap(Q, R, v, w, inplace=True)  # swap the blocks\n",
    "        p[k], p[k + 1] = p[k + 1], p[k]  # debug\n",
    "        s[k + 1] = s[k] + s[k + 2] - s[k + 1]  # update positions of blocks\n",
    "        v = list(range(s[k], s[k + 1]))  # update block-coordinates\n",
    "        w = list(range(s[k + 1], s[k + 2]))\n",
    "        if len(v) == 2:  # if the first block is 2 x 2\n",
    "            Q, R = normalize(Q, R, v, inplace=True)  # normalize it\n",
    "        if len(w) == 2:  # if the second block is 2 x 2\n",
    "            Q, R = normalize(Q, R, w, inplace=True)  # normalize it\n",
    "        ap.append(\n",
    "            np.linalg.norm(R[w, :][:, v], ord=np.inf) / (10 * eps * nrA)\n",
    "        )  # measure size of bottom-left block (see p.6, Sect. 2.3)\n",
    "\n",
    "    R = R - np.tril(R, -2)  # Zero the below-block entries\n",
    "    for k in range(1, len(s) - 1):  # to get a quasi-triangle again\n",
    "        R[s[k], s[k] - 1] = 0\n",
    "\n",
    "    return Q, R, ap\n",
    "\n",
    "def swaplist(p: Union[np.ndarray, List[float]], s: List[int], z: str, b: float) -> List[int]:\n",
    "    \"\"\"\n",
    "    Produce a list `v` of swaps of neighboring blocks needed to order the eigenvalues assembled in the vector `p` \\\n",
    "    from closest to `z` to farthest away from `z`, taking into account the parameter `b`.\n",
    "    To do so, Python's :func:`sorted`, producing a stable sort, is used to realize\n",
    "    the objective ordering of the diagonal blocks. This objective ordering\n",
    "    can easily be defined, since all eigenvalues can be extracted from the\n",
    "    given real Schur form. This, in turn, results in an objective\n",
    "    permutation of the given ordering, which can be realized by `n` swaps\n",
    "    of neighboring pairs, to be represented by a swaplist `v`.\n",
    "    p\n",
    "        List of eigenvalues (only one copy for each complex-conjugate pair).\n",
    "    s\n",
    "        List of the the-top left positions of each block.\n",
    "    %(z)s\n",
    "    b\n",
    "        Determines the length of the ordering with respect to `z`.\n",
    "        Valid options are:\n",
    "            - ``b < 0``: ``-b`` blocks will be sorted.\n",
    "            - ``b > 0``: b or ``b+1`` eigenvalues will be sorted, depending on the sizes of the blocks.\n",
    "            - ``b = 0``: the whole Schur form will be sorted.\n",
    "    Returns\n",
    "    -------\n",
    "    Swaplist `v`, where ``v[j] = k`` means that in the `j`-th swap, the `k`-th and `k+1`-th block should be swapped.\n",
    "    \"\"\"\n",
    "    p_orig = p  # debug\n",
    "    n = len(p)\n",
    "    p = list(p)\n",
    "    k = 0\n",
    "    v: List[int] = []\n",
    "    srtd = 0  # Number of sorted eigenvalues.\n",
    "    q = list(np.diff(s))  # Compute block sizes.\n",
    "    q_orig = list(q)  # debug\n",
    "    fini = False\n",
    "    while not fini:\n",
    "        _, j = select(p[k:n], z)  # Determine which block will go to position k\n",
    "        p_j = p[k + j]  # debug\n",
    "        p[k : n + 1] = [p[j + k]] + p[k:n]  # insert this block at position k,\n",
    "        assert p[k] == p_j  # debug\n",
    "        del p[j + k + 1]  # and remove it from where it was taken.\n",
    "        if expensive_asserts and __debug__:\n",
    "            assert np.all(sorted(p) == sorted(p_orig))  # debug\n",
    "        q_j = q[k + j]  # debug\n",
    "        q[k : n + 1] = [q[j + k]] + q[k:n]  # Similar for the block-sizes\n",
    "        assert q[k] == q_j  # debug\n",
    "        del q[j + k + 1]\n",
    "        if expensive_asserts and __debug__:\n",
    "            assert np.all(sorted(q) == sorted(q_orig))  # debug\n",
    "        v = v + list(range(k, j + k))[::-1]  # Update the list of swaps for this block\n",
    "        srtd = srtd + q[k]  # Update the number of sorted eigenvalues\n",
    "        k += 1\n",
    "        fini = k >= n - 1 or k == -b or srtd == b or (srtd == b + 1 and b != 0)\n",
    "    return v\n",
    "\n",
    "def select(p: Union[List[str], np.ndarray], z: str) -> Tuple[float, int]:\n",
    "    \"\"\"\n",
    "    Determine which block is next in the ordering (needed in :func:`normalize`).\n",
    "    Parameters\n",
    "    ----------\n",
    "    p\n",
    "        List of eigenvalues.\n",
    "    %(z)s\n",
    "    Returns\n",
    "    -------\n",
    "    Block that is next in the ordering.\n",
    "    \"\"\"\n",
    "    if z == \"LM\":\n",
    "        pos = int(np.argmax(np.abs(p)))\n",
    "        return np.abs(p[pos]), pos\n",
    "    elif z == \"LR\":\n",
    "        pos = int(np.argmax(np.real(p)))\n",
    "        return np.real(p[pos]), pos\n",
    "    else:\n",
    "        raise NotImplementedError(z)\n",
    "\n",
    "def _gram_schmidt_mod(X: np.ndarray, eta: np.ndarray) -> np.ndarray:\n",
    "    r\"\"\"\n",
    "    :math:`\\eta`-orthonormalize Schur vectors.\n",
    "    This uses a modified, numerically stable version of Gram-Schmidt\n",
    "    Orthonormalization.\n",
    "    Parameters\n",
    "    ----------\n",
    "    X\n",
    "        Array of shape `(n, m)` consisting columnwise of the `m` dominant\n",
    "        Schur vectors of :math:`\\tilde{P} = \\mathtt{diag}(\\sqrt{\\eta}) P \\mathtt{diag}(1.0. / \\sqrt{eta})`.\n",
    "    %(eta)s\n",
    "    Returns\n",
    "    -------\n",
    "    Array of shape `(n, m)` with the orthonormalized `m` dominant Schur\n",
    "    vectors of :math:`\\tilde{P}` in columns.\n",
    "    The elements of the first column are constantly equal :math:`\\sqrt{eta}`.\n",
    "    \"\"\"\n",
    "    # Keep copy of the original (Schur) vectors for later sanity check.\n",
    "    Xc = np.copy(X)\n",
    "\n",
    "    # Initialize matrices.\n",
    "    n, m = X.shape\n",
    "    Q = np.zeros((n, m))\n",
    "    R = np.zeros((m, m))\n",
    "\n",
    "    # Search for the constant (Schur) vector, if explicitly present.\n",
    "    max_i = 0\n",
    "    for i in range(m):\n",
    "        vsum = np.sum(X[:, i])\n",
    "        dummy = np.ones(X[:, i].shape) * (vsum / n)\n",
    "        if np.allclose(X[:, i], dummy, rtol=1e-6, atol=1e-5):\n",
    "            max_i = i  # TODO: check, if more than one vec fulfills this\n",
    "\n",
    "    # Shift non-constant first (Schur) vector to the right.\n",
    "    X[:, max_i] = X[:, 0]\n",
    "    # Set first (Schur) vector equal sqrt(eta) (In _do_schur() the Q-matrix, orthogonalized by\n",
    "    # _gram_schmidt_mod(), will be multiplied with 1.0./sqrt(eta) - so the first (Schur) vector will\n",
    "    # become the unit vector 1!).\n",
    "    X[:, 0] = np.sqrt(eta)\n",
    "    # Raise, if the subspace changed!\n",
    "    dummy = subspace_angles(X, Xc)\n",
    "    if not np.allclose(dummy, 0.0, atol=1e-7, rtol=1e-5):\n",
    "        raise ValueError(\n",
    "            \"The subspace of Q derived by shifting a non-constant first (Schur)vector \"\n",
    "            \"to the right and setting the first (Schur) vector equal sqrt(eta) doesn't \"\n",
    "            f\"match the subspace of the original Q! The subspace angles are: {dummy}. \"\n",
    "            f\"Number of clusters: {m}.\"\n",
    "        )\n",
    "\n",
    "    # eta-orthonormalization\n",
    "    for j in range(m):\n",
    "        v = X[:, j]\n",
    "        for i in range(j):\n",
    "            R[i, j] = np.dot(Q[:, i].conj(), v)\n",
    "            v = v - np.dot(R[i, j], Q[:, i])\n",
    "        R[j, j] = np.linalg.norm(v)\n",
    "        Q[:, j] = np.true_divide(v, R[j, j])\n",
    "\n",
    "    # Raise, if the subspace changed!\n",
    "    dummy = subspace_angles(Q, Xc)\n",
    "    if not np.allclose(dummy, 0.0, atol=1e-7, rtol=1e-5):\n",
    "        raise ValueError(\n",
    "            \"The subspace of Q derived by eta-orthogonalization doesn't match the \"\n",
    "            f\"subspace of the original Q! The subspace angles are: {dummy}. \"\n",
    "            f\"Number of clusters: {m}.\"\n",
    "        )\n",
    "    # Raise, if the (Schur)vectors aren't orthogonal!\n",
    "    if not np.allclose(Q.conj().T.dot(Q), np.eye(Q.shape[1]), atol=1e-8, rtol=1e-5):\n",
    "        dev = np.max(np.abs(Q.conj().T.dot(Q) - np.eye(Q.shape[1])))\n",
    "        raise ValueError(\n",
    "            f\"(Schur)vectors do not appear to be orthogonal. Largest absolute element-wise deviation in \"\n",
    "            f\"(Q^*TQ - I) is {dev}\"\n",
    "        )\n",
    "\n",
    "    return Q"
   ]
  },
  {
   "cell_type": "markdown",
   "metadata": {},
   "source": [
    "### Apply PCCA+"
   ]
  },
  {
   "cell_type": "code",
   "execution_count": 30,
   "metadata": {},
   "outputs": [
    {
     "name": "stdout",
     "output_type": "stream",
     "text": [
      "[0.00000000e+00 0.00000000e+00 0.00000000e+00 3.78447348e-05\n",
      " 1.86692656e-01 1.28936690e+00]\n"
     ]
    },
    {
     "name": "stderr",
     "output_type": "stream",
     "text": [
      "/home/jung42/miniconda3/lib/python3.8/site-packages/scipy/sparse/linalg/_dsolve/linsolve.py:322: SparseEfficiencyWarning: splu requires CSC matrix format\n",
      "  warn('splu requires CSC matrix format', SparseEfficiencyWarning)\n",
      "/home/jung42/miniconda3/lib/python3.8/site-packages/scipy/sparse/linalg/_dsolve/linsolve.py:215: SparseEfficiencyWarning: spsolve is more efficient when sparse b is in the CSC matrix format\n",
      "  warn('spsolve is more efficient when sparse b '\n"
     ]
    },
    {
     "data": {
      "image/png": "[encoded data removed]",
      "text/plain": [
       "<Figure size 432x288 with 1 Axes>"
      ]
     },
     "metadata": {
      "needs_background": "light"
     },
     "output_type": "display_data"
    },
    {
     "data": {
      "image/png": "[encoded data removed]",
      "text/plain": [
       "<Figure size 432x288 with 1 Axes>"
      ]
     },
     "metadata": {
      "needs_background": "light"
     },
     "output_type": "display_data"
    }
   ],
   "source": [
    "r = 4 # number of conformations\n",
    "#eigenval, eigenvec = scipy.sparse.linalg.eigs(Q.T, r, which='LR')\n",
    "Q1 = scipy.sparse.csr_matrix.copy(Q)\n",
    "Q1 = scipy.linalg.expm(Q1)\n",
    "U, s, _ = scipy.sparse.linalg.svds(Q1.T)\n",
    "print(s)\n",
    "plt.plot(s,'o')\n",
    "plt.show()\n",
    "\n",
    "Q2 = scipy.sparse.csr_matrix.toarray(Q1)\n",
    "R, Q_new = scipy.linalg.schur(Q2, output='real')\n",
    "Q_new,R, ap = sort_real_schur(Q_new,R,'LM',r)\n",
    "T, _ = rsf2csf(R, Q_new)\n",
    "eigenvalues = np.diag(T)[:r]\n",
    "Q, R, eigenvalues = Q_new[:, :r], R[:r, :r], eigenvalues[:r] # sorted_schur\n",
    "\n",
    "eta = np.true_divide(np.ones(Q.shape[0]), Q.shape[0])\n",
    "if not np.allclose(Q.T.dot(Q * eta[:, None]), np.eye(Q.shape[1]), rtol=1e6 * EPS, atol=1e6 * EPS): # do_schur\n",
    "        Q = _gram_schmidt_mod(Q, eta)\n",
    "        # Transform the orthonormalized Schur vectors of P_bar back\n",
    "        # to orthonormalized Schur vectors X of P.\n",
    "        X = np.true_divide(Q, np.sqrt(eta)[:, None])\n",
    "else:\n",
    "        # Search for the constant (Schur) vector, if explicitly present.\n",
    "        n, m = Q.shape\n",
    "        max_i = 0\n",
    "        for i in range(m):\n",
    "            vsum = np.sum(Q[:, i])\n",
    "            dummy = np.ones(Q[:, i].shape) * (vsum / n)\n",
    "            if np.allclose(Q[:, i], dummy, rtol=1e-6, atol=1e-5):\n",
    "                max_i = i  # TODO: check, if more than one vec fulfills this\n",
    "\n",
    "        # Shift non-constant first (Schur) vector to the right.\n",
    "        Q[:, max_i] = Q[:, 0]\n",
    "        # Transform the orthonormalized Schur vectors of P_bar back\n",
    "        # to orthonormalized Schur vectors X of P.\n",
    "        X = np.true_divide(Q, np.sqrt(eta)[:, None])\n",
    "        # Set first (Schur) vector equal 1.\n",
    "        X[:, 0] = 1.0\n",
    "\n",
    "\n",
    "rot_matrix = _initialize_rot_matrix(X)\n",
    "rot_matrix, chi, fopt = _opt_soft(X, rot_matrix) # membership functions\n",
    "crispness = (r - fopt) / r\n",
    "\n",
    "plt.plot(chi)\n",
    "plt.show()\n",
    "\n",
    "\n"
   ]
  },
  {
   "cell_type": "code",
   "execution_count": null,
   "metadata": {},
   "outputs": [],
   "source": []
  },
  {
   "cell_type": "code",
   "execution_count": null,
   "metadata": {},
   "outputs": [],
   "source": []
  },
  {
   "cell_type": "code",
   "execution_count": null,
   "metadata": {},
   "outputs": [],
   "source": []
  },
  {
   "cell_type": "code",
   "execution_count": null,
   "metadata": {},
   "outputs": [],
   "source": []
  }
 ],
 "metadata": {
  "colab": {
   "name": "rates_from_SqRA_1D.ipynb",
   "provenance": []
  },
  "kernelspec": {
   "display_name": "Python 3 (ipykernel)",
   "language": "python",
   "name": "python3"
  },
  "language_info": {
   "codemirror_mode": {
    "name": "ipython",
    "version": 3
   },
   "file_extension": ".py",
   "mimetype": "text/x-python",
   "name": "python",
   "nbconvert_exporter": "python",
   "pygments_lexer": "ipython3",
   "version": "3.8.13"
  },
  "toc": {
   "base_numbering": 1,
   "nav_menu": {},
   "number_sections": true,
   "sideBar": true,
   "skip_h1_title": false,
   "title_cell": "Table of Contents",
   "title_sidebar": "Contents",
   "toc_cell": false,
   "toc_position": {},
   "toc_section_display": true,
   "toc_window_display": false
  }
 },
 "nbformat": 4,
 "nbformat_minor": 1
}
